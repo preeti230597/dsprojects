{
 "cells": [
  {
   "cell_type": "code",
   "execution_count": 1622,
   "metadata": {},
   "outputs": [],
   "source": [
    "import pandas as pd\n",
    "import pandas as pd\n",
    "import numpy as np\n",
    "import matplotlib\n",
    "import seaborn as sns\n",
    "import matplotlib.pyplot as plt\n",
    "%matplotlib inline\n",
    "import numpy as np\n",
    "np.warnings.filterwarnings('ignore')\n",
    "from numpy import nan"
   ]
  },
  {
   "cell_type": "code",
   "execution_count": 1623,
   "metadata": {},
   "outputs": [],
   "source": [
    "df=pd.read_csv(\"heart_disease.csv\")"
   ]
  },
  {
   "cell_type": "code",
   "execution_count": 1624,
   "metadata": {
    "scrolled": false
   },
   "outputs": [
    {
     "data": {
      "text/html": [
       "<div>\n",
       "<style scoped>\n",
       "    .dataframe tbody tr th:only-of-type {\n",
       "        vertical-align: middle;\n",
       "    }\n",
       "\n",
       "    .dataframe tbody tr th {\n",
       "        vertical-align: top;\n",
       "    }\n",
       "\n",
       "    .dataframe thead th {\n",
       "        text-align: right;\n",
       "    }\n",
       "</style>\n",
       "<table border=\"1\" class=\"dataframe\">\n",
       "  <thead>\n",
       "    <tr style=\"text-align: right;\">\n",
       "      <th></th>\n",
       "      <th>(age)</th>\n",
       "      <th>(sex)</th>\n",
       "      <th>(cp)</th>\n",
       "      <th>(trestbps)</th>\n",
       "      <th>(chol)</th>\n",
       "      <th>(fbs)</th>\n",
       "      <th>(restecg)</th>\n",
       "      <th>(thalach)</th>\n",
       "      <th>(exang)</th>\n",
       "      <th>(oldpeak)</th>\n",
       "      <th>(slope)</th>\n",
       "      <th>(ca)</th>\n",
       "      <th>(thal)</th>\n",
       "      <th>(num) (the predicted attribute)</th>\n",
       "    </tr>\n",
       "  </thead>\n",
       "  <tbody>\n",
       "    <tr>\n",
       "      <th>0</th>\n",
       "      <td>63</td>\n",
       "      <td>1</td>\n",
       "      <td>4</td>\n",
       "      <td>140</td>\n",
       "      <td>260</td>\n",
       "      <td>0</td>\n",
       "      <td>1</td>\n",
       "      <td>112</td>\n",
       "      <td>1</td>\n",
       "      <td>3</td>\n",
       "      <td>2</td>\n",
       "      <td>?</td>\n",
       "      <td>?</td>\n",
       "      <td>2</td>\n",
       "    </tr>\n",
       "    <tr>\n",
       "      <th>1</th>\n",
       "      <td>44</td>\n",
       "      <td>1</td>\n",
       "      <td>4</td>\n",
       "      <td>130</td>\n",
       "      <td>209</td>\n",
       "      <td>0</td>\n",
       "      <td>1</td>\n",
       "      <td>127</td>\n",
       "      <td>0</td>\n",
       "      <td>0</td>\n",
       "      <td>?</td>\n",
       "      <td>?</td>\n",
       "      <td>?</td>\n",
       "      <td>0</td>\n",
       "    </tr>\n",
       "    <tr>\n",
       "      <th>2</th>\n",
       "      <td>60</td>\n",
       "      <td>1</td>\n",
       "      <td>4</td>\n",
       "      <td>132</td>\n",
       "      <td>218</td>\n",
       "      <td>0</td>\n",
       "      <td>1</td>\n",
       "      <td>140</td>\n",
       "      <td>1</td>\n",
       "      <td>1.5</td>\n",
       "      <td>3</td>\n",
       "      <td>?</td>\n",
       "      <td>?</td>\n",
       "      <td>2</td>\n",
       "    </tr>\n",
       "    <tr>\n",
       "      <th>3</th>\n",
       "      <td>55</td>\n",
       "      <td>1</td>\n",
       "      <td>4</td>\n",
       "      <td>142</td>\n",
       "      <td>228</td>\n",
       "      <td>0</td>\n",
       "      <td>1</td>\n",
       "      <td>149</td>\n",
       "      <td>1</td>\n",
       "      <td>2.5</td>\n",
       "      <td>1</td>\n",
       "      <td>?</td>\n",
       "      <td>?</td>\n",
       "      <td>1</td>\n",
       "    </tr>\n",
       "    <tr>\n",
       "      <th>4</th>\n",
       "      <td>66</td>\n",
       "      <td>1</td>\n",
       "      <td>3</td>\n",
       "      <td>110</td>\n",
       "      <td>213</td>\n",
       "      <td>1</td>\n",
       "      <td>2</td>\n",
       "      <td>99</td>\n",
       "      <td>1</td>\n",
       "      <td>1.3</td>\n",
       "      <td>2</td>\n",
       "      <td>?</td>\n",
       "      <td>?</td>\n",
       "      <td>0</td>\n",
       "    </tr>\n",
       "  </tbody>\n",
       "</table>\n",
       "</div>"
      ],
      "text/plain": [
       "   (age)  (sex)  (cp) (trestbps) (chol) (fbs)  (restecg) (thalach) (exang)  \\\n",
       "0     63      1     4        140    260     0          1       112       1   \n",
       "1     44      1     4        130    209     0          1       127       0   \n",
       "2     60      1     4        132    218     0          1       140       1   \n",
       "3     55      1     4        142    228     0          1       149       1   \n",
       "4     66      1     3        110    213     1          2        99       1   \n",
       "\n",
       "   (oldpeak)  (slope) (ca)  (thal)  (num) (the predicted attribute)  \n",
       "0          3        2    ?       ?                                2  \n",
       "1          0        ?    ?       ?                                0  \n",
       "2        1.5        3    ?       ?                                2  \n",
       "3        2.5        1    ?       ?                                1  \n",
       "4        1.3        2    ?       ?                                0  "
      ]
     },
     "execution_count": 1624,
     "metadata": {},
     "output_type": "execute_result"
    }
   ],
   "source": [
    "\n",
    "df.drop(columns=[\"Unnamed: 14\",\"Unnamed: 15\"],axis=1,inplace=True)\n",
    "df.head()"
   ]
  },
  {
   "cell_type": "code",
   "execution_count": 1625,
   "metadata": {},
   "outputs": [
    {
     "data": {
      "text/html": [
       "<div>\n",
       "<style scoped>\n",
       "    .dataframe tbody tr th:only-of-type {\n",
       "        vertical-align: middle;\n",
       "    }\n",
       "\n",
       "    .dataframe tbody tr th {\n",
       "        vertical-align: top;\n",
       "    }\n",
       "\n",
       "    .dataframe thead th {\n",
       "        text-align: right;\n",
       "    }\n",
       "</style>\n",
       "<table border=\"1\" class=\"dataframe\">\n",
       "  <thead>\n",
       "    <tr style=\"text-align: right;\">\n",
       "      <th></th>\n",
       "      <th>(age)</th>\n",
       "      <th>(sex)</th>\n",
       "      <th>(cp)</th>\n",
       "      <th>(restecg)</th>\n",
       "      <th>(num) (the predicted attribute)</th>\n",
       "    </tr>\n",
       "  </thead>\n",
       "  <tbody>\n",
       "    <tr>\n",
       "      <th>count</th>\n",
       "      <td>200.000000</td>\n",
       "      <td>200.000000</td>\n",
       "      <td>200.000000</td>\n",
       "      <td>200.000000</td>\n",
       "      <td>200.000000</td>\n",
       "    </tr>\n",
       "    <tr>\n",
       "      <th>mean</th>\n",
       "      <td>59.350000</td>\n",
       "      <td>0.970000</td>\n",
       "      <td>3.505000</td>\n",
       "      <td>0.735000</td>\n",
       "      <td>1.520000</td>\n",
       "    </tr>\n",
       "    <tr>\n",
       "      <th>std</th>\n",
       "      <td>7.811697</td>\n",
       "      <td>0.171015</td>\n",
       "      <td>0.795701</td>\n",
       "      <td>0.683455</td>\n",
       "      <td>1.219441</td>\n",
       "    </tr>\n",
       "    <tr>\n",
       "      <th>min</th>\n",
       "      <td>35.000000</td>\n",
       "      <td>0.000000</td>\n",
       "      <td>1.000000</td>\n",
       "      <td>0.000000</td>\n",
       "      <td>0.000000</td>\n",
       "    </tr>\n",
       "    <tr>\n",
       "      <th>25%</th>\n",
       "      <td>55.000000</td>\n",
       "      <td>1.000000</td>\n",
       "      <td>3.000000</td>\n",
       "      <td>0.000000</td>\n",
       "      <td>0.000000</td>\n",
       "    </tr>\n",
       "    <tr>\n",
       "      <th>50%</th>\n",
       "      <td>60.000000</td>\n",
       "      <td>1.000000</td>\n",
       "      <td>4.000000</td>\n",
       "      <td>1.000000</td>\n",
       "      <td>1.000000</td>\n",
       "    </tr>\n",
       "    <tr>\n",
       "      <th>75%</th>\n",
       "      <td>64.000000</td>\n",
       "      <td>1.000000</td>\n",
       "      <td>4.000000</td>\n",
       "      <td>1.000000</td>\n",
       "      <td>3.000000</td>\n",
       "    </tr>\n",
       "    <tr>\n",
       "      <th>max</th>\n",
       "      <td>77.000000</td>\n",
       "      <td>1.000000</td>\n",
       "      <td>4.000000</td>\n",
       "      <td>2.000000</td>\n",
       "      <td>4.000000</td>\n",
       "    </tr>\n",
       "  </tbody>\n",
       "</table>\n",
       "</div>"
      ],
      "text/plain": [
       "            (age)       (sex)        (cp)   (restecg)  \\\n",
       "count  200.000000  200.000000  200.000000  200.000000   \n",
       "mean    59.350000    0.970000    3.505000    0.735000   \n",
       "std      7.811697    0.171015    0.795701    0.683455   \n",
       "min     35.000000    0.000000    1.000000    0.000000   \n",
       "25%     55.000000    1.000000    3.000000    0.000000   \n",
       "50%     60.000000    1.000000    4.000000    1.000000   \n",
       "75%     64.000000    1.000000    4.000000    1.000000   \n",
       "max     77.000000    1.000000    4.000000    2.000000   \n",
       "\n",
       "       (num) (the predicted attribute)  \n",
       "count                       200.000000  \n",
       "mean                          1.520000  \n",
       "std                           1.219441  \n",
       "min                           0.000000  \n",
       "25%                           0.000000  \n",
       "50%                           1.000000  \n",
       "75%                           3.000000  \n",
       "max                           4.000000  "
      ]
     },
     "execution_count": 1625,
     "metadata": {},
     "output_type": "execute_result"
    }
   ],
   "source": [
    "df.describe()"
   ]
  },
  {
   "cell_type": "markdown",
   "metadata": {},
   "source": [
    "Explanation of all the columns:\n",
    "\n",
    "3 age: age in years\n",
    "\n",
    "4 sex: sex (1 = male; 0 = female)\n",
    "\n",
    "9 cp: chest pain type -- Value 1: typical angina -- Value 2: atypical angina -- Value 3: non-anginal pain -- Value 4: asymptomatic\n",
    "\n",
    "10 trestbps: resting blood pressure (in mm Hg on admission to the hospital)\n",
    "\n",
    "12 chol: serum cholestoral in mg/dl\n",
    "\n",
    "16 fbs: (fasting blood sugar > 120 mg/dl) (1 = true; 0 = false)\n",
    "\n",
    "19 restecg: resting electrocardiographic results -- Value 0: normal -- Value 1: having ST-T wave abnormality (T wave inversions and/or ST elevation or depression of > 0.05 mV) -- Value 2: showing probable or definite left ventricular hypertrophy by Estes' criteria\n",
    "\n",
    "32 thalach: maximum heart rate achieved\n",
    "\n",
    "38 exang: exercise induced angina (1 = yes; 0 = no)\n",
    "\n",
    "40 oldpeak = ST depression induced by exercise relative to rest\n",
    "\n",
    "41 slope: the slope of the peak exercise ST segment -- Value 1: upsloping -- Value 2: flat -- Value 3: downsloping\n",
    "\n",
    "44 ca: number of major vessels (0-3) colored by flourosopy\n",
    "\n",
    "51 thal: 3 = normal; 6 = fixed defect; 7 = reversable defect\n",
    "\n",
    "58 num: diagnosis of heart disease (angiographic disease status) -- Value 0: < 50% diameter narrowing -- Value 1: > 50% diameter narrowing (in any major vessel: attributes 59 through 68 are vessels) The target field refers to the presence of heart disease in the patient. It is integer valued from 0 (no presence) to 4."
   ]
  },
  {
   "cell_type": "markdown",
   "metadata": {},
   "source": [
    "Replacing 0,1,2 as low and 3,4 as high and creating  a column heat condition"
   ]
  },
  {
   "cell_type": "code",
   "execution_count": 1626,
   "metadata": {},
   "outputs": [
    {
     "data": {
      "text/plain": [
       "1    56\n",
       "0    51\n",
       "3    42\n",
       "2    41\n",
       "4    10\n",
       "Name: (num) (the predicted attribute), dtype: int64"
      ]
     },
     "execution_count": 1626,
     "metadata": {},
     "output_type": "execute_result"
    }
   ],
   "source": [
    "df[\"(num) (the predicted attribute)\"].value_counts()"
   ]
  },
  {
   "cell_type": "code",
   "execution_count": 1627,
   "metadata": {},
   "outputs": [],
   "source": [
    "hear = [\"low\",\"high\"]\n",
    "df['heart_condition'] = pd.cut(df[\"(num) (the predicted attribute)\"], range(-1, 6, 3), right=False, labels=hear)\n"
   ]
  },
  {
   "cell_type": "code",
   "execution_count": 1628,
   "metadata": {},
   "outputs": [
    {
     "data": {
      "text/plain": [
       "low     107\n",
       "high     93\n",
       "Name: heart_condition, dtype: int64"
      ]
     },
     "execution_count": 1628,
     "metadata": {},
     "output_type": "execute_result"
    }
   ],
   "source": [
    "df['heart_condition'].value_counts()"
   ]
  },
  {
   "cell_type": "code",
   "execution_count": 1629,
   "metadata": {
    "scrolled": true
   },
   "outputs": [
    {
     "data": {
      "text/plain": [
       "Index(['(age)', '(sex)', '(cp)', '(trestbps)', '(chol)', '(fbs)', '(restecg)',\n",
       "       '(thalach)', '(exang)', ' (oldpeak)', ' (slope)', '(ca)', ' (thal)',\n",
       "       '(num) (the predicted attribute)', 'heart_condition'],\n",
       "      dtype='object')"
      ]
     },
     "execution_count": 1629,
     "metadata": {},
     "output_type": "execute_result"
    }
   ],
   "source": [
    "df.columns"
   ]
  },
  {
   "cell_type": "code",
   "execution_count": 1630,
   "metadata": {},
   "outputs": [],
   "source": [
    "df.replace(to_replace =\"?\", \n",
    "                 value =nan,inplace=True) \n",
    "#replacing all \"?\" with nan\n"
   ]
  },
  {
   "cell_type": "code",
   "execution_count": 1631,
   "metadata": {},
   "outputs": [
    {
     "name": "stdout",
     "output_type": "stream",
     "text": [
      "<class 'pandas.core.frame.DataFrame'>\n",
      "RangeIndex: 200 entries, 0 to 199\n",
      "Data columns (total 15 columns):\n",
      " #   Column                           Non-Null Count  Dtype   \n",
      "---  ------                           --------------  -----   \n",
      " 0   (age)                            200 non-null    int64   \n",
      " 1   (sex)                            200 non-null    int64   \n",
      " 2   (cp)                             200 non-null    int64   \n",
      " 3   (trestbps)                       144 non-null    object  \n",
      " 4   (chol)                           193 non-null    object  \n",
      " 5   (fbs)                            193 non-null    object  \n",
      " 6   (restecg)                        200 non-null    int64   \n",
      " 7   (thalach)                        147 non-null    object  \n",
      " 8   (exang)                          147 non-null    object  \n",
      " 9    (oldpeak)                       144 non-null    object  \n",
      " 10   (slope)                         98 non-null     object  \n",
      " 11  (ca)                             2 non-null      object  \n",
      " 12   (thal)                          34 non-null     object  \n",
      " 13  (num) (the predicted attribute)  200 non-null    int64   \n",
      " 14  heart_condition                  200 non-null    category\n",
      "dtypes: category(1), int64(5), object(9)\n",
      "memory usage: 22.3+ KB\n"
     ]
    }
   ],
   "source": [
    "df.info()"
   ]
  },
  {
   "cell_type": "code",
   "execution_count": 1632,
   "metadata": {},
   "outputs": [],
   "source": [
    "#dropping columns with more than 100 values as total value in each column is 200\n",
    "df.drop(columns=[\"(ca)\",\" (thal)\"],axis=1,inplace=True)\n"
   ]
  },
  {
   "cell_type": "code",
   "execution_count": 1633,
   "metadata": {},
   "outputs": [],
   "source": [
    "#converting the object column to integer or float\n",
    "columns=[\" (oldpeak)\",\"(thalach)\",\"(trestbps)\",\"(chol)\",\"(exang)\",\"(fbs)\",\" (slope)\"]\n",
    "for i in columns:\n",
    "    df[i] = pd.to_numeric(df[i], errors='coerce')"
   ]
  },
  {
   "cell_type": "markdown",
   "metadata": {},
   "source": [
    "# Handling missing data\n"
   ]
  },
  {
   "cell_type": "markdown",
   "metadata": {},
   "source": [
    "Median"
   ]
  },
  {
   "cell_type": "code",
   "execution_count": 1634,
   "metadata": {},
   "outputs": [],
   "source": [
    "#similarly doing it for \"(chol)\" as it has zero instead of nan\n",
    "df[\"(chol)\"].replace(to_replace=0,value=nan,inplace=True)"
   ]
  },
  {
   "cell_type": "code",
   "execution_count": 1635,
   "metadata": {},
   "outputs": [],
   "source": [
    "#for continuos variables (chol),(thalach),(oldpeak),()\n",
    "columns=[\" (oldpeak)\",\"(thalach)\",\"(trestbps)\",\"(chol)\"]\n",
    "for i in columns:\n",
    "    df[i]=df[i].fillna(df[i].median())\n",
    "\n",
    "\n",
    "#calculating median of the column and then replacing it with nan "
   ]
  },
  {
   "cell_type": "markdown",
   "metadata": {},
   "source": [
    "Mode\n"
   ]
  },
  {
   "cell_type": "code",
   "execution_count": 1636,
   "metadata": {},
   "outputs": [
    {
     "data": {
      "text/plain": [
       "0.0    125\n",
       "1.0     68\n",
       "Name: (fbs), dtype: int64"
      ]
     },
     "execution_count": 1636,
     "metadata": {},
     "output_type": "execute_result"
    }
   ],
   "source": [
    "df['(fbs)'].value_counts()"
   ]
  },
  {
   "cell_type": "code",
   "execution_count": 1637,
   "metadata": {
    "scrolled": true
   },
   "outputs": [
    {
     "data": {
      "text/plain": [
       "1.0    95\n",
       "0.0    52\n",
       "Name: (exang), dtype: int64"
      ]
     },
     "execution_count": 1637,
     "metadata": {},
     "output_type": "execute_result"
    }
   ],
   "source": [
    "df['(exang)'].value_counts()"
   ]
  },
  {
   "cell_type": "code",
   "execution_count": 1638,
   "metadata": {},
   "outputs": [
    {
     "data": {
      "text/plain": [
       "2.0    53\n",
       "3.0    29\n",
       "1.0    16\n",
       "Name:  (slope), dtype: int64"
      ]
     },
     "execution_count": 1638,
     "metadata": {},
     "output_type": "execute_result"
    }
   ],
   "source": [
    "df[' (slope)'].value_counts()"
   ]
  },
  {
   "cell_type": "code",
   "execution_count": 1639,
   "metadata": {},
   "outputs": [],
   "source": [
    "df['(exang)']=df['(exang)'].fillna(1)\n",
    "df['(fbs)']=df['(fbs)'].fillna(0)\n",
    "df[\" (slope)\"]=df[\" (slope)\"].fillna(2)\n",
    "\n",
    "#filling the blank values with highest frequency among the two "
   ]
  },
  {
   "cell_type": "code",
   "execution_count": 1640,
   "metadata": {
    "scrolled": false
   },
   "outputs": [
    {
     "name": "stdout",
     "output_type": "stream",
     "text": [
      "<class 'pandas.core.frame.DataFrame'>\n",
      "RangeIndex: 200 entries, 0 to 199\n",
      "Data columns (total 13 columns):\n",
      " #   Column                           Non-Null Count  Dtype   \n",
      "---  ------                           --------------  -----   \n",
      " 0   (age)                            200 non-null    int64   \n",
      " 1   (sex)                            200 non-null    int64   \n",
      " 2   (cp)                             200 non-null    int64   \n",
      " 3   (trestbps)                       200 non-null    float64 \n",
      " 4   (chol)                           200 non-null    float64 \n",
      " 5   (fbs)                            200 non-null    float64 \n",
      " 6   (restecg)                        200 non-null    int64   \n",
      " 7   (thalach)                        200 non-null    float64 \n",
      " 8   (exang)                          200 non-null    float64 \n",
      " 9    (oldpeak)                       200 non-null    float64 \n",
      " 10   (slope)                         200 non-null    float64 \n",
      " 11  (num) (the predicted attribute)  200 non-null    int64   \n",
      " 12  heart_condition                  200 non-null    category\n",
      "dtypes: category(1), float64(7), int64(5)\n",
      "memory usage: 19.2 KB\n"
     ]
    }
   ],
   "source": [
    "df.info()"
   ]
  },
  {
   "cell_type": "markdown",
   "metadata": {},
   "source": [
    "# Graph Plotting"
   ]
  },
  {
   "cell_type": "code",
   "execution_count": 1641,
   "metadata": {},
   "outputs": [
    {
     "data": {
      "text/plain": [
       "<matplotlib.axes._subplots.AxesSubplot at 0x251a7ff2070>"
      ]
     },
     "execution_count": 1641,
     "metadata": {},
     "output_type": "execute_result"
    },
    {
     "data": {
      "image/png": "[encoded data removed]",
      "text/plain": [
       "<Figure size 432x288 with 1 Axes>"
      ]
     },
     "metadata": {
      "needs_background": "light"
     },
     "output_type": "display_data"
    }
   ],
   "source": [
    "\n",
    "pd.crosstab(df[\"(sex)\"],df[\"heart_condition\"]).plot(kind='bar')\n",
    "#we can see that for women it is very low so we can drop this column as all are male"
   ]
  },
  {
   "cell_type": "markdown",
   "metadata": {},
   "source": [
    "Observation:\n",
    "\n",
    "For sex column 0=female and 1=male ,we can see that for the female column there is very few cases so we can drop this column\n",
    "as it wont be much of use."
   ]
  },
  {
   "cell_type": "code",
   "execution_count": 1642,
   "metadata": {},
   "outputs": [],
   "source": [
    "age_labels = ['30-39', '40-49', '50-59', '60-69', '70-79']\n",
    "df['age_group'] = pd.cut(df[\"(age)\"], range(30, 81, 10), right=False, labels=age_labels)\n",
    "#creating bins for age for visualization"
   ]
  },
  {
   "cell_type": "code",
   "execution_count": 1643,
   "metadata": {},
   "outputs": [
    {
     "data": {
      "text/plain": [
       "<matplotlib.legend.Legend at 0x251a7fecbe0>"
      ]
     },
     "execution_count": 1643,
     "metadata": {},
     "output_type": "execute_result"
    },
    {
     "data": {
      "image/png": "[encoded data removed]",
      "text/plain": [
       "<Figure size 432x288 with 1 Axes>"
      ]
     },
     "metadata": {
      "needs_background": "light"
     },
     "output_type": "display_data"
    }
   ],
   "source": [
    "ax=pd.crosstab(df.age_group,df[\"heart_condition\"]).plot(kind='bar')\n",
    "ax.legend(bbox_to_anchor=(1.04,0.5), loc=\"center left\")"
   ]
  },
  {
   "cell_type": "markdown",
   "metadata": {},
   "source": [
    "Observation\n",
    "\n",
    "1. Dividing into bins and plotting ,we find that for the range 30-39 that presence of heart disease is very low\n",
    "\n",
    "2. For the age group 40-49 also low but few cases of heart \n",
    "\n",
    "3. For the age group 50-59 we can see that there is a presence of heart disease which is not that severe .\n",
    "\n",
    "4. For the age group 60-69 presence of heart disease is high\n",
    "\n",
    "5. For the age group 70-79 in this also it is high"
   ]
  },
  {
   "cell_type": "code",
   "execution_count": 1644,
   "metadata": {},
   "outputs": [
    {
     "data": {
      "text/plain": [
       "<matplotlib.legend.Legend at 0x251a3832910>"
      ]
     },
     "execution_count": 1644,
     "metadata": {},
     "output_type": "execute_result"
    },
    {
     "data": {
      "image/png": "[encoded data removed]",
      "text/plain": [
       "<Figure size 432x288 with 1 Axes>"
      ]
     },
     "metadata": {
      "needs_background": "light"
     },
     "output_type": "display_data"
    }
   ],
   "source": [
    "\n",
    "ax=pd.crosstab(df[\"(cp)\"],df[\"heart_condition\"]).plot(kind='bar')\n",
    "ax.legend(bbox_to_anchor=(1.04,0.5), loc=\"center left\")"
   ]
  },
  {
   "cell_type": "markdown",
   "metadata": {},
   "source": [
    "Observation\n",
    "\n",
    " Value 1: typical angina - In case of this ,heart disease is less \n",
    " \n",
    "-- Value 2: atypical angina- In this, the value of 0 is more which means heart disease case is less\n",
    "\n",
    "-- Value 3: non-anginal pain -In this ,the value of 0 is more which means heart disease case is less,however there are few cases of severe heart disease\n",
    "\n",
    "-- Value 4: asymptomatic- In this we have high people with very value 1 and vey less in 4 "
   ]
  },
  {
   "cell_type": "code",
   "execution_count": 1645,
   "metadata": {},
   "outputs": [
    {
     "data": {
      "text/plain": [
       "<matplotlib.axes._subplots.AxesSubplot at 0x251a7bc63d0>"
      ]
     },
     "execution_count": 1645,
     "metadata": {},
     "output_type": "execute_result"
    },
    {
     "data": {
      "image/png": "[encoded data removed]",
      "text/plain": [
       "<Figure size 432x288 with 1 Axes>"
      ]
     },
     "metadata": {
      "needs_background": "light"
     },
     "output_type": "display_data"
    }
   ],
   "source": [
    "\n",
    "sns.barplot(x=df[\"heart_condition\"],y=df[\"(chol)\"],data=df)\n",
    "#both have equal value"
   ]
  },
  {
   "cell_type": "code",
   "execution_count": 1646,
   "metadata": {},
   "outputs": [
    {
     "data": {
      "text/plain": [
       "<matplotlib.legend.Legend at 0x251a7dbce80>"
      ]
     },
     "execution_count": 1646,
     "metadata": {},
     "output_type": "execute_result"
    },
    {
     "data": {
      "image/png": "[encoded data removed]",
      "text/plain": [
       "<Figure size 432x288 with 1 Axes>"
      ]
     },
     "metadata": {
      "needs_background": "light"
     },
     "output_type": "display_data"
    }
   ],
   "source": [
    "ax=pd.crosstab(df[\"(restecg)\"],df[\"heart_condition\"]).plot(kind='bar')\n",
    "ax.legend(bbox_to_anchor=(1.04,0.5), loc=\"center left\")"
   ]
  },
  {
   "cell_type": "markdown",
   "metadata": {},
   "source": [
    "1. We can se people with no heart disease have normal or not very high elevation(value 1)\n",
    "2. Also for 2-\n",
    "\n",
    "Value 0: normal -- \n",
    "Value 1: having ST-T wave abnormality (T wave inversions and/or ST elevation or depression of > 0.05 mV) -- Value 2: showing probable or definite left ventricular hypertrophy by Estes' criteria"
   ]
  },
  {
   "cell_type": "code",
   "execution_count": 1647,
   "metadata": {},
   "outputs": [
    {
     "data": {
      "text/plain": [
       "<matplotlib.axes._subplots.AxesSubplot at 0x251a7cf40a0>"
      ]
     },
     "execution_count": 1647,
     "metadata": {},
     "output_type": "execute_result"
    },
    {
     "data": {
      "image/png": "[encoded data removed]",
      "text/plain": [
       "<Figure size 432x288 with 1 Axes>"
      ]
     },
     "metadata": {
      "needs_background": "light"
     },
     "output_type": "display_data"
    }
   ],
   "source": [
    "pd.crosstab(df[\"(exang)\"],df[\"heart_condition\"]).plot(kind='bar')"
   ]
  },
  {
   "cell_type": "code",
   "execution_count": 1648,
   "metadata": {},
   "outputs": [
    {
     "data": {
      "text/plain": [
       "<matplotlib.axes._subplots.AxesSubplot at 0x251a8743ca0>"
      ]
     },
     "execution_count": 1648,
     "metadata": {},
     "output_type": "execute_result"
    },
    {
     "data": {
      "image/png": "[encoded data removed]",
      "text/plain": [
       "<Figure size 432x288 with 1 Axes>"
      ]
     },
     "metadata": {
      "needs_background": "light"
     },
     "output_type": "display_data"
    }
   ],
   "source": [
    "pd.crosstab(df[\"(fbs)\"],df[\"heart_condition\"]).plot(kind='bar')#we can drop this column also as there is no much difference in the heart condition almost equal"
   ]
  },
  {
   "cell_type": "code",
   "execution_count": 1649,
   "metadata": {},
   "outputs": [],
   "source": [
    "from sklearn.preprocessing import LabelEncoder\n",
    "labelencoder=LabelEncoder()\n",
    "df[\"heart_condition\"] = labelencoder.fit_transform(df[\"heart_condition\"])"
   ]
  },
  {
   "cell_type": "code",
   "execution_count": 1650,
   "metadata": {
    "scrolled": true
   },
   "outputs": [
    {
     "data": {
      "text/plain": [
       "heart_condition                    1.000000\n",
       "(thalach)                          0.057028\n",
       "(restecg)                          0.034629\n",
       "(fbs)                             -0.008042\n",
       "(chol)                            -0.096884\n",
       "(cp)                              -0.126743\n",
       " (slope)                          -0.127050\n",
       "(trestbps)                        -0.132073\n",
       "(sex)                             -0.163955\n",
       "(exang)                           -0.164092\n",
       "(age)                             -0.293901\n",
       " (oldpeak)                        -0.310680\n",
       "(num) (the predicted attribute)   -0.878850\n",
       "Name: heart_condition, dtype: float64"
      ]
     },
     "execution_count": 1650,
     "metadata": {},
     "output_type": "execute_result"
    }
   ],
   "source": [
    "corr_matrix=df.corr()\n",
    "corr_matrix[\"heart_condition\"].sort_values(ascending=False)"
   ]
  },
  {
   "cell_type": "code",
   "execution_count": 1651,
   "metadata": {},
   "outputs": [],
   "source": [
    "df.drop(columns=[\"(chol)\",\"age_group\",'(num) (the predicted attribute)',\"(fbs)\",\"(restecg)\"],axis=1,inplace=True)\n",
    "#dropping the above columns as they have very less correlation laso the graph shows the value are almost equal for all four . "
   ]
  },
  {
   "cell_type": "code",
   "execution_count": 1652,
   "metadata": {
    "scrolled": true
   },
   "outputs": [
    {
     "name": "stdout",
     "output_type": "stream",
     "text": [
      "<class 'pandas.core.frame.DataFrame'>\n",
      "RangeIndex: 200 entries, 0 to 199\n",
      "Data columns (total 9 columns):\n",
      " #   Column           Non-Null Count  Dtype  \n",
      "---  ------           --------------  -----  \n",
      " 0   (age)            200 non-null    int64  \n",
      " 1   (sex)            200 non-null    int64  \n",
      " 2   (cp)             200 non-null    int64  \n",
      " 3   (trestbps)       200 non-null    float64\n",
      " 4   (thalach)        200 non-null    float64\n",
      " 5   (exang)          200 non-null    float64\n",
      " 6    (oldpeak)       200 non-null    float64\n",
      " 7    (slope)         200 non-null    float64\n",
      " 8   heart_condition  200 non-null    int32  \n",
      "dtypes: float64(5), int32(1), int64(3)\n",
      "memory usage: 13.4 KB\n"
     ]
    }
   ],
   "source": [
    "df.info()"
   ]
  },
  {
   "cell_type": "code",
   "execution_count": 1653,
   "metadata": {
    "scrolled": false
   },
   "outputs": [
    {
     "data": {
      "text/plain": [
       "(age)             -0.404091\n",
       "(sex)             -5.552105\n",
       "(cp)              -1.648734\n",
       "(trestbps)        -1.320144\n",
       "(thalach)          0.265689\n",
       "(exang)           -1.102593\n",
       " (oldpeak)         0.259052\n",
       " (slope)           0.210521\n",
       "heart_condition   -0.141407\n",
       "dtype: float64"
      ]
     },
     "execution_count": 1653,
     "metadata": {},
     "output_type": "execute_result"
    }
   ],
   "source": [
    "df.skew()\n",
    "#checking the skewness "
   ]
  },
  {
   "cell_type": "code",
   "execution_count": 1654,
   "metadata": {},
   "outputs": [
    {
     "data": {
      "text/plain": [
       "(200, 9)"
      ]
     },
     "execution_count": 1654,
     "metadata": {},
     "output_type": "execute_result"
    }
   ],
   "source": [
    "df.shape"
   ]
  },
  {
   "cell_type": "code",
   "execution_count": 1655,
   "metadata": {},
   "outputs": [
    {
     "data": {
      "text/plain": [
       "(181, 9)"
      ]
     },
     "execution_count": 1655,
     "metadata": {},
     "output_type": "execute_result"
    }
   ],
   "source": [
    "from scipy import stats\n",
    "from scipy import stats\n",
    "import numpy as np\n",
    "z = np.abs(stats.zscore(df))\n",
    "threshold=3\n",
    "df =df[(z < 3).all(axis=1)]\n",
    "df.shape"
   ]
  },
  {
   "cell_type": "code",
   "execution_count": 1656,
   "metadata": {
    "scrolled": false
   },
   "outputs": [
    {
     "data": {
      "text/plain": [
       "(age)             -0.341400\n",
       "(sex)              0.000000\n",
       "(cp)              -1.414098\n",
       "(trestbps)         0.698089\n",
       "(thalach)          0.058124\n",
       "(exang)           -1.207866\n",
       " (oldpeak)         0.291281\n",
       " (slope)           0.273012\n",
       "heart_condition   -0.100405\n",
       "dtype: float64"
      ]
     },
     "execution_count": 1656,
     "metadata": {},
     "output_type": "execute_result"
    }
   ],
   "source": [
    "df.skew()"
   ]
  },
  {
   "cell_type": "code",
   "execution_count": 1657,
   "metadata": {},
   "outputs": [],
   "source": [
    "from sklearn.preprocessing import power_transform\n",
    "df_skewed=power_transform(df,method=\"yeo-johnson\")\n",
    "df=pd.DataFrame(df_skewed,columns=df.columns)\n",
    "df=df.astype(int)\n",
    "#removing positive and negative skewness"
   ]
  },
  {
   "cell_type": "code",
   "execution_count": 1658,
   "metadata": {},
   "outputs": [
    {
     "data": {
      "text/plain": [
       "(age)              0.138916\n",
       "(sex)              0.000000\n",
       "(cp)              -0.860031\n",
       "(trestbps)        -0.243627\n",
       "(thalach)          0.131451\n",
       "(exang)           -1.207866\n",
       " (oldpeak)         0.521680\n",
       " (slope)          -1.513144\n",
       "heart_condition   -0.100405\n",
       "dtype: float64"
      ]
     },
     "execution_count": 1658,
     "metadata": {},
     "output_type": "execute_result"
    }
   ],
   "source": [
    "df.skew()"
   ]
  },
  {
   "cell_type": "markdown",
   "metadata": {},
   "source": [
    "# BUILDING MODEL\n",
    "It is a classification problem as we need to find that how severe is the heart disease if present on a scale of 1-4\n"
   ]
  },
  {
   "cell_type": "code",
   "execution_count": 1659,
   "metadata": {},
   "outputs": [],
   "source": [
    "df_x=df.drop(columns=['heart_condition'],axis=1)\n",
    "y=df['heart_condition']\n",
    "#creating input and output dataframe"
   ]
  },
  {
   "cell_type": "code",
   "execution_count": 1660,
   "metadata": {},
   "outputs": [],
   "source": [
    "from sklearn.preprocessing import StandardScaler\n",
    "sc=StandardScaler()\n",
    "sc.fit(df_x)\n",
    "x=sc.transform(df_x)\n",
    "x=pd.DataFrame(x,columns=df_x.columns)\n",
    "#scaling the input column"
   ]
  },
  {
   "cell_type": "code",
   "execution_count": 1661,
   "metadata": {},
   "outputs": [],
   "source": [
    "from sklearn.ensemble import RandomForestClassifier\n",
    "\n",
    "from sklearn.neighbors import KNeighborsClassifier\n",
    "from sklearn.tree import DecisionTreeClassifier\n",
    "from sklearn.metrics import accuracy_score,confusion_matrix,classification_report\n",
    "from sklearn.metrics import f1_score\n",
    "from sklearn import svm  \n",
    "from sklearn.metrics import precision_score\n",
    "from sklearn.model_selection import cross_val_score\n",
    "from sklearn.linear_model import LogisticRegression\n",
    "from sklearn.metrics import recall_score\n",
    "from sklearn.model_selection import train_test_split"
   ]
  },
  {
   "cell_type": "code",
   "execution_count": 1662,
   "metadata": {},
   "outputs": [],
   "source": [
    "x_train,x_test,y_train,y_test=train_test_split(x, y,random_state = 42,test_size=0.20)"
   ]
  },
  {
   "cell_type": "code",
   "execution_count": 1663,
   "metadata": {},
   "outputs": [
    {
     "name": "stdout",
     "output_type": "stream",
     "text": [
      "Score of LogisticRegression() is 0.7837837837837838\n",
      "Cross val score: 0.6408408408408409\n",
      "\n",
      "\n",
      "Score of DecisionTreeClassifier() is 0.40540540540540543\n",
      "Cross val score: 0.546996996996997\n",
      "\n",
      "\n",
      "Score of SVC() is 0.5945945945945946\n",
      "Cross val score: 0.602102102102102\n",
      "\n",
      "\n",
      "Score of RandomForestClassifier() is 0.43243243243243246\n",
      "Cross val score: 0.5582582582582583\n",
      "\n",
      "\n",
      "Score of KNeighborsClassifier() is 0.40540540540540543\n",
      "Cross val score: 0.624024024024024\n",
      "\n",
      "\n"
     ]
    }
   ],
   "source": [
    "model=[LogisticRegression(),DecisionTreeClassifier(),svm.SVC(),RandomForestClassifier(),KNeighborsClassifier()]\n",
    "for m in model:\n",
    "    m.fit(x_train,y_train)\n",
    "    predm=m.predict(x_test)\n",
    "    print(\"Score of\",m,\"is\",accuracy_score(y_test,predm,))\n",
    "    print(\"Cross val score:\",cross_val_score(m,x,y,cv=5,scoring=\"accuracy\").mean())\n",
    "    print(\"\\n\")"
   ]
  },
  {
   "cell_type": "code",
   "execution_count": 1664,
   "metadata": {},
   "outputs": [
    {
     "name": "stdout",
     "output_type": "stream",
     "text": [
      "Best Hyper Parameters:\n",
      " {'C': 0.01, 'solver': 'liblinear'}\n"
     ]
    }
   ],
   "source": [
    "from sklearn.model_selection import RepeatedStratifiedKFold\n",
    "from sklearn.model_selection import GridSearchCV\n",
    "model = LogisticRegression()\n",
    "solvers = ['newton-cg', 'lbfgs', 'liblinear']\n",
    "c_values = [100, 10, 1.0, 0.1, 0.01]\n",
    "# define grid search\n",
    "grid = dict(solver=solvers,C=c_values)\n",
    "cv = RepeatedStratifiedKFold(n_splits=10, n_repeats=3, random_state=10)\n",
    "grid_search = GridSearchCV(estimator=model, param_grid=grid, n_jobs=-1, cv=cv, scoring='accuracy',error_score=0)\n",
    "grid_search.fit(x,y)\n",
    "print(\"Best Hyper Parameters:\\n\",grid_search.best_params_)"
   ]
  },
  {
   "cell_type": "code",
   "execution_count": 1665,
   "metadata": {},
   "outputs": [
    {
     "name": "stdout",
     "output_type": "stream",
     "text": [
      "Accuracy for Logistic Regression on CV data:  0.7837837837837838\n"
     ]
    }
   ],
   "source": [
    "model1=LogisticRegression(random_state=42,C= 0.01, solver='liblinear')\n",
    "model1.fit(x_train,y_train)\n",
    "pred=model1.predict(x_test)\n",
    "print(\"Accuracy for Logistic Regression on CV data: \",accuracy_score(y_test,pred))"
   ]
  },
  {
   "cell_type": "code",
   "execution_count": 1670,
   "metadata": {},
   "outputs": [
    {
     "name": "stdout",
     "output_type": "stream",
     "text": [
      "Score is 0.8108108108108109\n",
      "Cross val score: 0.63003003003003\n"
     ]
    }
   ],
   "source": [
    "#for boosting the score\n",
    "from sklearn.ensemble import AdaBoostClassifier\n",
    "lr=LogisticRegression()\n",
    "adb=AdaBoostClassifier(base_estimator=model1,n_estimators=6,learning_rate=1,random_state=42)\n",
    "adb.fit(x,y)\n",
    "predab=adb.predict(x_test)\n",
    "print(\"Score is\",accuracy_score(y_test,predab))\n",
    "print(\"Cross val score:\",cross_val_score(adb,x,y,cv=5,scoring=\"accuracy\").mean())\n",
    "\n",
    "# summarize results"
   ]
  },
  {
   "cell_type": "code",
   "execution_count": 1671,
   "metadata": {},
   "outputs": [
    {
     "name": "stdout",
     "output_type": "stream",
     "text": [
      "Confusion matrix \n",
      " [[16  2]\n",
      " [ 5 14]]\n",
      "classification report \n",
      "               precision    recall  f1-score   support\n",
      "\n",
      "          -1       0.76      0.89      0.82        18\n",
      "           0       0.88      0.74      0.80        19\n",
      "\n",
      "    accuracy                           0.81        37\n",
      "   macro avg       0.82      0.81      0.81        37\n",
      "weighted avg       0.82      0.81      0.81        37\n",
      "\n"
     ]
    }
   ],
   "source": [
    "from sklearn.metrics import confusion_matrix\n",
    "from sklearn.metrics import classification_report\n",
    "print(\"Confusion matrix \\n\",confusion_matrix(y_test,predab))\n",
    "print(\"classification report \\n\",classification_report(y_test,predab))"
   ]
  },
  {
   "cell_type": "code",
   "execution_count": 1672,
   "metadata": {},
   "outputs": [],
   "source": [
    "df_heart=pd.DataFrame(predab)\n",
    "df_heart.to_csv('Heart_condition.csv') \n"
   ]
  },
  {
   "cell_type": "code",
   "execution_count": 1673,
   "metadata": {},
   "outputs": [
    {
     "data": {
      "text/plain": [
       "['heart_condition.attrion']"
      ]
     },
     "execution_count": 1673,
     "metadata": {},
     "output_type": "execute_result"
    }
   ],
   "source": [
    "import joblib\n",
    "joblib.dump(adb,\"heart_condition.attrion\")"
   ]
  },
  {
   "cell_type": "code",
   "execution_count": null,
   "metadata": {},
   "outputs": [],
   "source": []
  }
 ],
 "metadata": {
  "kernelspec": {
   "display_name": "Python 3",
   "language": "python",
   "name": "python3"
  },
  "language_info": {
   "codemirror_mode": {
    "name": "ipython",
    "version": 3
   },
   "file_extension": ".py",
   "mimetype": "text/x-python",
   "name": "python",
   "nbconvert_exporter": "python",
   "pygments_lexer": "ipython3",
   "version": "3.8.3"
  }
 },
 "nbformat": 4,
 "nbformat_minor": 4
}

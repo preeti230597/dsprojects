{
 "cells": [
  {
   "cell_type": "code",
   "execution_count": 1,
   "metadata": {},
   "outputs": [],
   "source": [
    "import pandas as pd\n",
    "import numpy as np\n",
    "import matplotlib\n",
    "import seaborn as sns\n",
    "import matplotlib.pyplot as plt\n",
    "%matplotlib inline\n",
    "import numpy as np\n",
    "import warnings\n",
    "warnings.filterwarnings(\"ignore\")"
   ]
  },
  {
   "cell_type": "code",
   "execution_count": 2,
   "metadata": {},
   "outputs": [],
   "source": [
    "df = pd.read_excel('Data_Train.xlsx')"
   ]
  },
  {
   "cell_type": "code",
   "execution_count": 3,
   "metadata": {},
   "outputs": [
    {
     "data": {
      "text/html": [
       "<div>\n",
       "<style scoped>\n",
       "    .dataframe tbody tr th:only-of-type {\n",
       "        vertical-align: middle;\n",
       "    }\n",
       "\n",
       "    .dataframe tbody tr th {\n",
       "        vertical-align: top;\n",
       "    }\n",
       "\n",
       "    .dataframe thead th {\n",
       "        text-align: right;\n",
       "    }\n",
       "</style>\n",
       "<table border=\"1\" class=\"dataframe\">\n",
       "  <thead>\n",
       "    <tr style=\"text-align: right;\">\n",
       "      <th></th>\n",
       "      <th>TITLE</th>\n",
       "      <th>RESTAURANT_ID</th>\n",
       "      <th>CUISINES</th>\n",
       "      <th>TIME</th>\n",
       "      <th>CITY</th>\n",
       "      <th>LOCALITY</th>\n",
       "      <th>RATING</th>\n",
       "      <th>VOTES</th>\n",
       "      <th>COST</th>\n",
       "    </tr>\n",
       "  </thead>\n",
       "  <tbody>\n",
       "    <tr>\n",
       "      <th>0</th>\n",
       "      <td>CASUAL DINING</td>\n",
       "      <td>9438</td>\n",
       "      <td>Malwani, Goan, North Indian</td>\n",
       "      <td>11am – 4pm, 7:30pm – 11:30pm (Mon-Sun)</td>\n",
       "      <td>Thane</td>\n",
       "      <td>Dombivali East</td>\n",
       "      <td>3.6</td>\n",
       "      <td>49 votes</td>\n",
       "      <td>1200</td>\n",
       "    </tr>\n",
       "    <tr>\n",
       "      <th>1</th>\n",
       "      <td>CASUAL DINING,BAR</td>\n",
       "      <td>13198</td>\n",
       "      <td>Asian, Modern Indian, Japanese</td>\n",
       "      <td>6pm – 11pm (Mon-Sun)</td>\n",
       "      <td>Chennai</td>\n",
       "      <td>Ramapuram</td>\n",
       "      <td>4.2</td>\n",
       "      <td>30 votes</td>\n",
       "      <td>1500</td>\n",
       "    </tr>\n",
       "    <tr>\n",
       "      <th>2</th>\n",
       "      <td>CASUAL DINING</td>\n",
       "      <td>10915</td>\n",
       "      <td>North Indian, Chinese, Biryani, Hyderabadi</td>\n",
       "      <td>11am – 3:30pm, 7pm – 11pm (Mon-Sun)</td>\n",
       "      <td>Chennai</td>\n",
       "      <td>Saligramam</td>\n",
       "      <td>3.8</td>\n",
       "      <td>221 votes</td>\n",
       "      <td>800</td>\n",
       "    </tr>\n",
       "    <tr>\n",
       "      <th>3</th>\n",
       "      <td>QUICK BITES</td>\n",
       "      <td>6346</td>\n",
       "      <td>Tibetan, Chinese</td>\n",
       "      <td>11:30am – 1am (Mon-Sun)</td>\n",
       "      <td>Mumbai</td>\n",
       "      <td>Bandra West</td>\n",
       "      <td>4.1</td>\n",
       "      <td>24 votes</td>\n",
       "      <td>800</td>\n",
       "    </tr>\n",
       "    <tr>\n",
       "      <th>4</th>\n",
       "      <td>DESSERT PARLOR</td>\n",
       "      <td>15387</td>\n",
       "      <td>Desserts</td>\n",
       "      <td>11am – 1am (Mon-Sun)</td>\n",
       "      <td>Mumbai</td>\n",
       "      <td>Lower Parel</td>\n",
       "      <td>3.8</td>\n",
       "      <td>165 votes</td>\n",
       "      <td>300</td>\n",
       "    </tr>\n",
       "  </tbody>\n",
       "</table>\n",
       "</div>"
      ],
      "text/plain": [
       "               TITLE  RESTAURANT_ID  \\\n",
       "0      CASUAL DINING           9438   \n",
       "1  CASUAL DINING,BAR          13198   \n",
       "2      CASUAL DINING          10915   \n",
       "3        QUICK BITES           6346   \n",
       "4     DESSERT PARLOR          15387   \n",
       "\n",
       "                                     CUISINES  \\\n",
       "0                 Malwani, Goan, North Indian   \n",
       "1              Asian, Modern Indian, Japanese   \n",
       "2  North Indian, Chinese, Biryani, Hyderabadi   \n",
       "3                            Tibetan, Chinese   \n",
       "4                                    Desserts   \n",
       "\n",
       "                                     TIME     CITY        LOCALITY RATING  \\\n",
       "0  11am – 4pm, 7:30pm – 11:30pm (Mon-Sun)    Thane  Dombivali East    3.6   \n",
       "1                    6pm – 11pm (Mon-Sun)  Chennai       Ramapuram    4.2   \n",
       "2     11am – 3:30pm, 7pm – 11pm (Mon-Sun)  Chennai      Saligramam    3.8   \n",
       "3                 11:30am – 1am (Mon-Sun)   Mumbai     Bandra West    4.1   \n",
       "4                    11am – 1am (Mon-Sun)   Mumbai     Lower Parel    3.8   \n",
       "\n",
       "       VOTES  COST  \n",
       "0   49 votes  1200  \n",
       "1   30 votes  1500  \n",
       "2  221 votes   800  \n",
       "3   24 votes   800  \n",
       "4  165 votes   300  "
      ]
     },
     "execution_count": 3,
     "metadata": {},
     "output_type": "execute_result"
    }
   ],
   "source": [
    "df.head()"
   ]
  },
  {
   "cell_type": "code",
   "execution_count": 4,
   "metadata": {},
   "outputs": [
    {
     "data": {
      "text/plain": [
       "(12690, 9)"
      ]
     },
     "execution_count": 4,
     "metadata": {},
     "output_type": "execute_result"
    }
   ],
   "source": [
    "df.shape"
   ]
  },
  {
   "cell_type": "code",
   "execution_count": 5,
   "metadata": {},
   "outputs": [
    {
     "name": "stdout",
     "output_type": "stream",
     "text": [
      "<class 'pandas.core.frame.DataFrame'>\n",
      "RangeIndex: 12690 entries, 0 to 12689\n",
      "Data columns (total 9 columns):\n",
      " #   Column         Non-Null Count  Dtype \n",
      "---  ------         --------------  ----- \n",
      " 0   TITLE          12690 non-null  object\n",
      " 1   RESTAURANT_ID  12690 non-null  int64 \n",
      " 2   CUISINES       12690 non-null  object\n",
      " 3   TIME           12690 non-null  object\n",
      " 4   CITY           12578 non-null  object\n",
      " 5   LOCALITY       12592 non-null  object\n",
      " 6   RATING         12688 non-null  object\n",
      " 7   VOTES          11486 non-null  object\n",
      " 8   COST           12690 non-null  int64 \n",
      "dtypes: int64(2), object(7)\n",
      "memory usage: 892.4+ KB\n"
     ]
    }
   ],
   "source": [
    "df.info()"
   ]
  },
  {
   "cell_type": "code",
   "execution_count": 6,
   "metadata": {
    "scrolled": true
   },
   "outputs": [
    {
     "data": {
      "text/plain": [
       "TITLE               0\n",
       "RESTAURANT_ID       0\n",
       "CUISINES            0\n",
       "TIME                0\n",
       "CITY              112\n",
       "LOCALITY           98\n",
       "RATING              2\n",
       "VOTES            1204\n",
       "COST                0\n",
       "dtype: int64"
      ]
     },
     "execution_count": 6,
     "metadata": {},
     "output_type": "execute_result"
    }
   ],
   "source": [
    "df.isnull().sum()"
   ]
  },
  {
   "cell_type": "markdown",
   "metadata": {},
   "source": [
    "Observation\n",
    "\n",
    "CITY,LOCALITY,VOTES,RATING has missing values"
   ]
  },
  {
   "cell_type": "code",
   "execution_count": 7,
   "metadata": {},
   "outputs": [],
   "source": [
    "df[\"VOTES\"] = df['VOTES'].str.split(\" \").str[0]\n",
    "df[\"VOTES\"]= pd.to_numeric(df[\"VOTES\"])\n",
    "df[\"RATING\"]=pd.to_numeric(df[\"RATING\"], errors='coerce')"
   ]
  },
  {
   "cell_type": "markdown",
   "metadata": {},
   "source": [
    "Dropping word \"votes\" from the column votes and converting the column rating and votes into integer type"
   ]
  },
  {
   "cell_type": "code",
   "execution_count": 9,
   "metadata": {},
   "outputs": [
    {
     "name": "stdout",
     "output_type": "stream",
     "text": [
      "<class 'pandas.core.frame.DataFrame'>\n",
      "RangeIndex: 12690 entries, 0 to 12689\n",
      "Data columns (total 9 columns):\n",
      " #   Column         Non-Null Count  Dtype  \n",
      "---  ------         --------------  -----  \n",
      " 0   TITLE          12690 non-null  object \n",
      " 1   RESTAURANT_ID  12690 non-null  int64  \n",
      " 2   CUISINES       12690 non-null  object \n",
      " 3   TIME           12690 non-null  object \n",
      " 4   CITY           12578 non-null  object \n",
      " 5   LOCALITY       12592 non-null  object \n",
      " 6   RATING         11486 non-null  float64\n",
      " 7   VOTES          11486 non-null  float64\n",
      " 8   COST           12690 non-null  int64  \n",
      "dtypes: float64(2), int64(2), object(5)\n",
      "memory usage: 892.4+ KB\n"
     ]
    }
   ],
   "source": [
    "df.info()"
   ]
  },
  {
   "cell_type": "raw",
   "metadata": {},
   "source": [
    "Treatig missing value"
   ]
  },
  {
   "cell_type": "code",
   "execution_count": 10,
   "metadata": {},
   "outputs": [],
   "source": [
    "columns=[\"CITY\",\"LOCALITY\"]\n",
    "for i in columns:\n",
    "    df[i].fillna(df[i].mode()[0], inplace=True)\n",
    "#All are object data type so replacing it with mode"
   ]
  },
  {
   "cell_type": "raw",
   "metadata": {},
   "source": [
    "Replacing continuous variables with median"
   ]
  },
  {
   "cell_type": "code",
   "execution_count": 11,
   "metadata": {},
   "outputs": [],
   "source": [
    "df[\"VOTES\"]=df[\"VOTES\"].fillna(df[\"VOTES\"].median())\n",
    "df[\"RATING\"]=df[\"RATING\"].fillna(df[\"RATING\"].median())"
   ]
  },
  {
   "cell_type": "code",
   "execution_count": 12,
   "metadata": {
    "scrolled": true
   },
   "outputs": [
    {
     "name": "stdout",
     "output_type": "stream",
     "text": [
      "<class 'pandas.core.frame.DataFrame'>\n",
      "RangeIndex: 12690 entries, 0 to 12689\n",
      "Data columns (total 9 columns):\n",
      " #   Column         Non-Null Count  Dtype  \n",
      "---  ------         --------------  -----  \n",
      " 0   TITLE          12690 non-null  object \n",
      " 1   RESTAURANT_ID  12690 non-null  int64  \n",
      " 2   CUISINES       12690 non-null  object \n",
      " 3   TIME           12690 non-null  object \n",
      " 4   CITY           12690 non-null  object \n",
      " 5   LOCALITY       12690 non-null  object \n",
      " 6   RATING         12690 non-null  float64\n",
      " 7   VOTES          12690 non-null  float64\n",
      " 8   COST           12690 non-null  int64  \n",
      "dtypes: float64(2), int64(2), object(5)\n",
      "memory usage: 892.4+ KB\n"
     ]
    }
   ],
   "source": [
    "df.info()\n"
   ]
  },
  {
   "cell_type": "markdown",
   "metadata": {},
   "source": [
    "Observation:No null values"
   ]
  },
  {
   "cell_type": "markdown",
   "metadata": {},
   "source": [
    "# Visualization"
   ]
  },
  {
   "cell_type": "code",
   "execution_count": 13,
   "metadata": {},
   "outputs": [
    {
     "data": {
      "text/plain": [
       "<matplotlib.axes._subplots.AxesSubplot at 0x28280388640>"
      ]
     },
     "execution_count": 13,
     "metadata": {},
     "output_type": "execute_result"
    },
    {
     "data": {
      "image/png": "[encoded data removed]",
      "text/plain": [
       "<Figure size 864x360 with 1 Axes>"
      ]
     },
     "metadata": {
      "needs_background": "light"
     },
     "output_type": "display_data"
    }
   ],
   "source": [
    "plt.figure(figsize=(12,5))\n",
    "sns.distplot(df[\"COST\"], color = 'b')"
   ]
  },
  {
   "cell_type": "markdown",
   "metadata": {},
   "source": [
    "Observation:\n",
    "    \n",
    "The cost is distributed mostly in the range 0-2000,with the tail more towards right side which suggests mean is more than the median.\n"
   ]
  },
  {
   "cell_type": "markdown",
   "metadata": {},
   "source": [
    "Printing unique values of cuisines"
   ]
  },
  {
   "cell_type": "code",
   "execution_count": 14,
   "metadata": {},
   "outputs": [
    {
     "data": {
      "text/plain": [
       "array(['Malwani, Goan, North Indian', 'Asian, Modern Indian, Japanese',\n",
       "       'North Indian, Chinese, Biryani, Hyderabadi', ...,\n",
       "       'North Indian, Burger, Kebab', 'Goan, Continental',\n",
       "       'Finger Food, Continental, Asian, Chinese'], dtype=object)"
      ]
     },
     "execution_count": 14,
     "metadata": {},
     "output_type": "execute_result"
    }
   ],
   "source": [
    "df[\"CUISINES\"].unique()\n"
   ]
  },
  {
   "cell_type": "code",
   "execution_count": 15,
   "metadata": {},
   "outputs": [
    {
     "name": "stdout",
     "output_type": "stream",
     "text": [
      "Maximum number of cuisines : 8 \n",
      " Minimum number of cuisines: 1\n"
     ]
    }
   ],
   "source": [
    "#calculating number of cuisines\n",
    "l=df['CUISINES'].str.count(',').add(1)\n",
    "\n",
    "print(\"Maximum number of cuisines :\",l.max(),\"\\n\",\"Minimum number of cuisines:\",l.min())\n"
   ]
  },
  {
   "cell_type": "markdown",
   "metadata": {},
   "source": [
    "Creating a column with number of cuisines"
   ]
  },
  {
   "cell_type": "code",
   "execution_count": 16,
   "metadata": {},
   "outputs": [],
   "source": [
    "df['count'] = df['CUISINES'].str.split(\",\").str.len()\n"
   ]
  },
  {
   "cell_type": "code",
   "execution_count": 278,
   "metadata": {},
   "outputs": [
    {
     "data": {
      "text/html": [
       "<div>\n",
       "<style scoped>\n",
       "    .dataframe tbody tr th:only-of-type {\n",
       "        vertical-align: middle;\n",
       "    }\n",
       "\n",
       "    .dataframe tbody tr th {\n",
       "        vertical-align: top;\n",
       "    }\n",
       "\n",
       "    .dataframe thead th {\n",
       "        text-align: right;\n",
       "    }\n",
       "</style>\n",
       "<table border=\"1\" class=\"dataframe\">\n",
       "  <thead>\n",
       "    <tr style=\"text-align: right;\">\n",
       "      <th></th>\n",
       "      <th>TITLE</th>\n",
       "      <th>RESTAURANT_ID</th>\n",
       "      <th>CUISINES</th>\n",
       "      <th>TIME</th>\n",
       "      <th>CITY</th>\n",
       "      <th>LOCALITY</th>\n",
       "      <th>RATING</th>\n",
       "      <th>VOTES</th>\n",
       "      <th>COST</th>\n",
       "    </tr>\n",
       "  </thead>\n",
       "  <tbody>\n",
       "    <tr>\n",
       "      <th>0</th>\n",
       "      <td>CASUAL DINING</td>\n",
       "      <td>9438</td>\n",
       "      <td>Malwani, Goan, North Indian</td>\n",
       "      <td>11am – 4pm, 7:30pm – 11:30pm (Mon-Sun)</td>\n",
       "      <td>Thane</td>\n",
       "      <td>Dombivali East</td>\n",
       "      <td>3.6</td>\n",
       "      <td>49.0</td>\n",
       "      <td>1200</td>\n",
       "    </tr>\n",
       "    <tr>\n",
       "      <th>1</th>\n",
       "      <td>CASUAL DINING,BAR</td>\n",
       "      <td>13198</td>\n",
       "      <td>Asian, Modern Indian, Japanese</td>\n",
       "      <td>6pm – 11pm (Mon-Sun)</td>\n",
       "      <td>Chennai</td>\n",
       "      <td>Ramapuram</td>\n",
       "      <td>4.2</td>\n",
       "      <td>30.0</td>\n",
       "      <td>1500</td>\n",
       "    </tr>\n",
       "    <tr>\n",
       "      <th>2</th>\n",
       "      <td>CASUAL DINING</td>\n",
       "      <td>10915</td>\n",
       "      <td>North Indian, Chinese, Biryani, Hyderabadi</td>\n",
       "      <td>11am – 3:30pm, 7pm – 11pm (Mon-Sun)</td>\n",
       "      <td>Chennai</td>\n",
       "      <td>Saligramam</td>\n",
       "      <td>3.8</td>\n",
       "      <td>221.0</td>\n",
       "      <td>800</td>\n",
       "    </tr>\n",
       "    <tr>\n",
       "      <th>3</th>\n",
       "      <td>QUICK BITES</td>\n",
       "      <td>6346</td>\n",
       "      <td>Tibetan, Chinese</td>\n",
       "      <td>11:30am – 1am (Mon-Sun)</td>\n",
       "      <td>Mumbai</td>\n",
       "      <td>Bandra West</td>\n",
       "      <td>4.1</td>\n",
       "      <td>24.0</td>\n",
       "      <td>800</td>\n",
       "    </tr>\n",
       "    <tr>\n",
       "      <th>4</th>\n",
       "      <td>DESSERT PARLOR</td>\n",
       "      <td>15387</td>\n",
       "      <td>Desserts</td>\n",
       "      <td>11am – 1am (Mon-Sun)</td>\n",
       "      <td>Mumbai</td>\n",
       "      <td>Lower Parel</td>\n",
       "      <td>3.8</td>\n",
       "      <td>165.0</td>\n",
       "      <td>300</td>\n",
       "    </tr>\n",
       "  </tbody>\n",
       "</table>\n",
       "</div>"
      ],
      "text/plain": [
       "               TITLE  RESTAURANT_ID  \\\n",
       "0      CASUAL DINING           9438   \n",
       "1  CASUAL DINING,BAR          13198   \n",
       "2      CASUAL DINING          10915   \n",
       "3        QUICK BITES           6346   \n",
       "4     DESSERT PARLOR          15387   \n",
       "\n",
       "                                     CUISINES  \\\n",
       "0                 Malwani, Goan, North Indian   \n",
       "1              Asian, Modern Indian, Japanese   \n",
       "2  North Indian, Chinese, Biryani, Hyderabadi   \n",
       "3                            Tibetan, Chinese   \n",
       "4                                    Desserts   \n",
       "\n",
       "                                     TIME     CITY        LOCALITY  RATING  \\\n",
       "0  11am – 4pm, 7:30pm – 11:30pm (Mon-Sun)    Thane  Dombivali East     3.6   \n",
       "1                    6pm – 11pm (Mon-Sun)  Chennai       Ramapuram     4.2   \n",
       "2     11am – 3:30pm, 7pm – 11pm (Mon-Sun)  Chennai      Saligramam     3.8   \n",
       "3                 11:30am – 1am (Mon-Sun)   Mumbai     Bandra West     4.1   \n",
       "4                    11am – 1am (Mon-Sun)   Mumbai     Lower Parel     3.8   \n",
       "\n",
       "   VOTES  COST  \n",
       "0   49.0  1200  \n",
       "1   30.0  1500  \n",
       "2  221.0   800  \n",
       "3   24.0   800  \n",
       "4  165.0   300  "
      ]
     },
     "execution_count": 278,
     "metadata": {},
     "output_type": "execute_result"
    }
   ],
   "source": [
    "df.head()"
   ]
  },
  {
   "cell_type": "code",
   "execution_count": null,
   "metadata": {},
   "outputs": [],
   "source": []
  },
  {
   "cell_type": "code",
   "execution_count": 18,
   "metadata": {
    "scrolled": false
   },
   "outputs": [
    {
     "data": {
      "text/plain": [
       "array(['Thane', 'Chennai', 'Mumbai', 'Bangalore', 'Gurgaon', 'Hyderabad',\n",
       "       'Kochi', 'Thane West', 'Andheri Lokhandwala', 'New Delhi',\n",
       "       'Andheri West', 'Malad East', '682036', 'Bangalor', 'Navi Mumbai',\n",
       "       'Bandra West', 'Delhi', 'Noida', 'Bangalore-560066',\n",
       "       'Secunderabad', 'India', 'Madhuranagar', 'Chennai Teynampet',\n",
       "       'Faridabad', 'Chembur.', 'Maharashtra', 'opp gurudwara Shakurpur',\n",
       "       'Telagana Land Line:040-48507016', 'Ghaziabad', 'Karnataka',\n",
       "       'Kerala', 'Edappally', 'Kadavanthra', 'Ernakulam Circle kochi',\n",
       "       'Bengalore', 'Near Reliance Fresh', 'Kilpauk', 'Bengaluru',\n",
       "       'Kothaguda', 'Goregaon West', 'Banglore', 'Tamil Nadu', 'Kakkanad',\n",
       "       'Kochi Elamkulam', 'Outer Ring Road', 'Mulund East',\n",
       "       'Secunderabad main road near signal NMREC COLLEGE', 'Telangana',\n",
       "       'Ponnuruni Kochi', 'Gachibowli', 'Semmancheri',\n",
       "       '5th Main Teachers Colony Koramangala Block 1 Bangalore 560034',\n",
       "       'Mumbai Mahim', 'Powai (Next to Powai Plaza)', 'Dombivali East',\n",
       "       'Kochi Vyttila', 'Kandivali', 'Kochi Palarivattom',\n",
       "       'Dewan Rama Road', 'Gurugram', 'Sector 51 Noida', 'Kaloor',\n",
       "       'Besant Nagar', 'Arumbakkam chennai-600106.',\n",
       "       'Adjacent To Commercial Street', 'Delhi NCR', 'Dwarka', '682035.',\n",
       "       'Kalyan West', 'Avadi', 'Kondapur', 'Mehdipatnam', 'Gandipet',\n",
       "       'Velachery', 'Pallavaram', 'Vijaya Nagar', 'BTM Layout',\n",
       "       'Chennai 600034.',\n",
       "       'Metro Pillar No 21. Mettuguda main road near railway degree college.',\n",
       "       'Chennai - 600040', 'JP Nagar Bangalore', 'Madhapur', 'Ernakulam',\n",
       "       'Sarjapur', 'Whitefield Bangalore', 'Kochi Chullickal',\n",
       "       'Kochi-683101', 'Bangalore - 560076', 'Rohini',\n",
       "       'Hyderabad Behind Vacs Pastries', 'Hyderabad neerus emporium.',\n",
       "       'Navi Mumbai.', 'Karol Bagh', 'Perungudi', 'Thykoodam',\n",
       "       'Greater Noida', 'Bangalore.', 'Khairatabad', 'chullickal',\n",
       "       'Grant Road West', 'Hitech City', 'West Maredpally',\n",
       "       'Mumbai - 400007', 'Chennai Padur', 'Chander Nagar New Delhi',\n",
       "       'Nedumbassery', 'MG Road', 'Naya Nagar Mira Road', 'Pitampura',\n",
       "       'Lower Parel', 'HBR Layout', 'Telangana 500003',\n",
       "       'Rajiv gandhi Nagar', 'New Delhi.', 'Medavakkam', 'Sathya Nagar',\n",
       "       'p.o Kochi', 'Behind Ramalayam Temple', 'Palarivattom',\n",
       "       'Brigade Road', 'Mumbai.', 'Mumbai Andheri East', 'Virar West',\n",
       "       'B-1 Stage', 'Chennai Kovalam', 'Hyderabad.', 'Aluva',\n",
       "       'Telangana 500034', 'IOB Bank Kamala Nagar', 'HSR Layout',\n",
       "       'Marine Drive', 'DLF Galleria', 'Nallathambi Main Road',\n",
       "       'Chennai opp: Vasanth & co', 'Citypark', 'Karnataka 560103',\n",
       "       'Bhayandar', 'Aluva Circle', 'Thammenahalli Village', 'SG Palya',\n",
       "       'Attapur.', 'Near Shangrilla Bus Stop', 'Khar (west)', 'Road 3',\n",
       "       'Kukatpally', 'Faridabd', 'Telangana 500032', 'Dilsukhnagar',\n",
       "       'Mogappair. Chennai', 'Near Munrshwara Temple', 'Off Brigade Road',\n",
       "       'khar west', 'Potheri', 'Chennai Perungudi',\n",
       "       'Chennai Thuraipakkam', 'OMR Karapakkam', 'Hyderabad-500032',\n",
       "       'Mumbai Dombivali East', 'Chennai Thousand Lights', 'Mahim',\n",
       "       'Lingampally', 'Powai', 'New Delhi-110024', 'Chennai- 600107',\n",
       "       'Kerala 683104', 'Vasai West.', 'Thane (W)',\n",
       "       'Near Santosh Banjara Hyderabad',\n",
       "       'Banaswadi (Next to Indian Bank) Bangalore', 'BTM Bangalore',\n",
       "       'Greater Kailash 2 New Delhi', 'Secunderabad ECIL',\n",
       "       'Bangalore Koramangala 7th Block', 'bangalore : 560085',\n",
       "       'navi mumbai', 'Gachibowli Hyderabad',\n",
       "       'CPR layout harlur main road opposite to ozone ever green apartment Bangalore -',\n",
       "       'ECR NEELANKARAI Chennai 600115', 'ward X11', 'kochi',\n",
       "       'Perumbavoor', 'Mira raod east', 'Kerala 682013', 'Chennai.',\n",
       "       'Pokhran Road 2', 'Uttar Pradesh', 'Karnataka 560102',\n",
       "       'Mumbai - 400013', 'Naharpar', 'Hosur Road',\n",
       "       'Near Bharat Petroleum.', 'Chennai (Bang Opposite Indian Bank)',\n",
       "       'Sriram nagar', 'West Mumbai', 'Vyttila', 'Banjara Hills',\n",
       "       'MALAPALLIPURAM P .O THRISSUR', 'Andheri west Mumbai',\n",
       "       'Karnataka 560043', 'Panampilly Nagar', 'hyderabad',\n",
       "       'Borivali East.', 'ECIL', 'Jubilee Hills',\n",
       "       'Amrit kaur market opposite new delhi railway station paharganj',\n",
       "       'Chennai Opposite 5C Bus stand', 'Telengana', 'Kochi Ravipuram',\n",
       "       'Rajanpada', 'Mahabalipuram', 'Secunderabad. WE HAVE NO BRANCHES.',\n",
       "       'Telangana 500081', 'Gurgoan', 'Elamakkara', 'Sector 1',\n",
       "       'Bandra W', 'Kolathur', 'Chennai Mahabalipuram', '3rd Street',\n",
       "       'Mumbai Chakala', 'Borivali West', 'Rodeo Drive Sector 49',\n",
       "       'Pallimukku', 'Delhi 110085', 'Sector 51', 'Champapet',\n",
       "       'Andavar Nagar', 'Bangalore - 560103', 'Kerala 690525',\n",
       "       'opp mukteshwar ashram powai', 'Nungambakkam', 'BK Guda',\n",
       "       'Jogeshwari (w) Mumbai', 'Kukatapally', 'Near Sector 110 Noida',\n",
       "       'Navallur', 'Beside Excellency Gardens', 'Mumbai - 80', 'Begumpet',\n",
       "       'Maharaja Hotel Beside Gardania Bar', 'Ashok Vihar Phase 1',\n",
       "       'Trivandrum', 'Kochi-18', 'Narayanguda', 'Thevera', 'Chennai-40',\n",
       "       'Palm Beach Road', 'East Coast Road (ECR)', 'Ramapuram',\n",
       "       'Chennai Chrompet', 'Nandanam', 'Saket', 'MG Road Ernakulam',\n",
       "       'Andheri Lokhandwala.', 'Indiranagar', 'Thiruvanmiyur', 'Ambattur',\n",
       "       'Banglaore', 'Chennai - 34 Landmark - Near Loyola College',\n",
       "       'Anna Nagar West', 'Old Railway Road', 'East Mumbai',\n",
       "       'Kanakapura Road Banglore', 'Kochi Kakkanad', 'Kalyan',\n",
       "       'Near Ramlila Ground', 'Serilingampally', 'Himayath Nagar',\n",
       "       'Nallala Street', 'Anna Salai', 'Old Delhi', 'Wagle Estate',\n",
       "       '1st Stage', 'Kochi-16', 'Kochi International Airport VIP Road',\n",
       "       'First Street', 'Chenn ai', '6 & 7 - 4/64 Subhash Nagar',\n",
       "       '1st Tavarekere', 'Perambur', 'Vaishali Ghaziabad', 'Thanisandra',\n",
       "       'Block F', 'Sector 7 Dwarka', 'Opposite Barathi Gas Company',\n",
       "       'Vadapalani', 'Kondapur.', 'Badlapur West.', 'Kalamassery',\n",
       "       'Palavakkam', 'TCS Synergy park', 'BTM 1st Stage', 'Mahadevpura',\n",
       "       'NEW BEL ROAD 560054',\n",
       "       'Veliaveetil house Vivekananda Nagar Elamakkara', 'Sholinganallur',\n",
       "       'Maharashtra 400102', 'Lower Parel West', 'Tripunithura',\n",
       "       'Mogappair', 'Telangana 500070', 'JP Nagar', 'Navi-Mumbai',\n",
       "       'Ashok Nagar', 'Marathahalli', 'Haridwar Apartments',\n",
       "       'Kerala 682001 India', 'Karnataka 560037', 'Kerala 683585',\n",
       "       'Chennai. (Near Hotel Matshya)', 'Indirapuram',\n",
       "       'Begumpet Hyderabad', 'Manikonda',\n",
       "       'Bangalore land mark above mahaveer hard ware', 'Kerala 682304',\n",
       "       'Rajarajeshwari Nagar bangalore', 'GST Road', 'Fort Kochi',\n",
       "       'Lahari Apartments', 'Ramanthapur', 'Mulund west',\n",
       "       'Gurgaon Haryana India', 'New Delhi..Near by SBI bank',\n",
       "       'Kochi Aluva 102', 'Phase 1 Bangalore', 'Hyderabad Manikonda',\n",
       "       'Mumbai This is a Delivery & Take-away Restaurant only.',\n",
       "       '10th avenue', 'Uppal', 'New Delhi 110075', 'Nizampet', 'Ulsoo',\n",
       "       'Bangalore 560076', 'PVR plaza cinema building Connaught Place',\n",
       "       'Gurgaon Haryana', 'Chromepet', 'Kerala 682024', 'Janakpuri',\n",
       "       'Secunderabad.', 'chennai', 'B.B.M.P East (Karnataka) - 560049',\n",
       "       'Tambaram', 'Malleshwaram Bangalore', 'Vadapalani.',\n",
       "       'Dist. Center New Delhi', 'Bangalore Road', 'aluva circle',\n",
       "       'Kochi.', 'Thane Mumbai', 'Kadubesanahalli Bangalore',\n",
       "       'Vasai west', 'Mig Housing Society', 'Haryana', 'Borivali West.',\n",
       "       'Golf Course Road', 'Khar Mumbai', 'Near Jyothinivas College',\n",
       "       'Anna Nagar East', 'Masab Tank'], dtype=object)"
      ]
     },
     "execution_count": 18,
     "metadata": {},
     "output_type": "execute_result"
    }
   ],
   "source": [
    "df[\"CITY\"].unique()"
   ]
  },
  {
   "cell_type": "markdown",
   "metadata": {},
   "source": [
    "As the city also contain location and not just city name so adding them together in one column"
   ]
  },
  {
   "cell_type": "code",
   "execution_count": 19,
   "metadata": {},
   "outputs": [],
   "source": [
    "df['Location']=df['CITY']+' '+df['LOCALITY']\n",
    "df.drop(columns=['CITY','LOCALITY'],inplace=True)"
   ]
  },
  {
   "cell_type": "markdown",
   "metadata": {},
   "source": [
    "Using the below function to acquire city names"
   ]
  },
  {
   "cell_type": "code",
   "execution_count": 20,
   "metadata": {},
   "outputs": [
    {
     "name": "stdout",
     "output_type": "stream",
     "text": [
      "12690\n"
     ]
    }
   ],
   "source": [
    "from fuzzywuzzy import process\n",
    " \n",
    "names_array=[]\n",
    "def match_names(wrong_names,correct_names):\n",
    "    for row in wrong_names:\n",
    "        x=process.extractOne(row, correct_names)\n",
    "        if x[1]<60:\n",
    "            names_array.append('Others')\n",
    "        else:\n",
    "            names_array.append(x[0])\n",
    "    return names_array\n",
    "\n",
    "\n",
    "correct_names=['Bangalore','Thane',\n",
    "'Hyderabad','Andheri',\n",
    "'Delhi', 'Kerala',\n",
    "'Chennai',\n",
    "'Mumbai', 'Telangana',\n",
    "'Kochi', \n",
    "'Noida', \n",
    "'Gurgaon', 'Ernakulam',\n",
    "'Faridabad', 'Ghaziabad',\n",
    "'Secunderabad' ]\n",
    "name_match=match_names(df.Location,correct_names)\n",
    "\n",
    "print(len(names_array))\n",
    "df['Location']=names_array"
   ]
  },
  {
   "cell_type": "code",
   "execution_count": 283,
   "metadata": {
    "scrolled": true
   },
   "outputs": [
    {
     "data": {
      "text/html": [
       "<div>\n",
       "<style scoped>\n",
       "    .dataframe tbody tr th:only-of-type {\n",
       "        vertical-align: middle;\n",
       "    }\n",
       "\n",
       "    .dataframe tbody tr th {\n",
       "        vertical-align: top;\n",
       "    }\n",
       "\n",
       "    .dataframe thead th {\n",
       "        text-align: right;\n",
       "    }\n",
       "</style>\n",
       "<table border=\"1\" class=\"dataframe\">\n",
       "  <thead>\n",
       "    <tr style=\"text-align: right;\">\n",
       "      <th></th>\n",
       "      <th>TITLE</th>\n",
       "      <th>RESTAURANT_ID</th>\n",
       "      <th>CUISINES</th>\n",
       "      <th>TIME</th>\n",
       "      <th>RATING</th>\n",
       "      <th>VOTES</th>\n",
       "      <th>COST</th>\n",
       "      <th>Location</th>\n",
       "    </tr>\n",
       "  </thead>\n",
       "  <tbody>\n",
       "    <tr>\n",
       "      <th>0</th>\n",
       "      <td>CASUAL DINING</td>\n",
       "      <td>9438</td>\n",
       "      <td>Malwani, Goan, North Indian</td>\n",
       "      <td>11am – 4pm, 7:30pm – 11:30pm (Mon-Sun)</td>\n",
       "      <td>3.6</td>\n",
       "      <td>49.0</td>\n",
       "      <td>1200</td>\n",
       "      <td>Thane</td>\n",
       "    </tr>\n",
       "    <tr>\n",
       "      <th>1</th>\n",
       "      <td>CASUAL DINING,BAR</td>\n",
       "      <td>13198</td>\n",
       "      <td>Asian, Modern Indian, Japanese</td>\n",
       "      <td>6pm – 11pm (Mon-Sun)</td>\n",
       "      <td>4.2</td>\n",
       "      <td>30.0</td>\n",
       "      <td>1500</td>\n",
       "      <td>Chennai</td>\n",
       "    </tr>\n",
       "    <tr>\n",
       "      <th>2</th>\n",
       "      <td>CASUAL DINING</td>\n",
       "      <td>10915</td>\n",
       "      <td>North Indian, Chinese, Biryani, Hyderabadi</td>\n",
       "      <td>11am – 3:30pm, 7pm – 11pm (Mon-Sun)</td>\n",
       "      <td>3.8</td>\n",
       "      <td>221.0</td>\n",
       "      <td>800</td>\n",
       "      <td>Chennai</td>\n",
       "    </tr>\n",
       "    <tr>\n",
       "      <th>3</th>\n",
       "      <td>QUICK BITES</td>\n",
       "      <td>6346</td>\n",
       "      <td>Tibetan, Chinese</td>\n",
       "      <td>11:30am – 1am (Mon-Sun)</td>\n",
       "      <td>4.1</td>\n",
       "      <td>24.0</td>\n",
       "      <td>800</td>\n",
       "      <td>Mumbai</td>\n",
       "    </tr>\n",
       "    <tr>\n",
       "      <th>4</th>\n",
       "      <td>DESSERT PARLOR</td>\n",
       "      <td>15387</td>\n",
       "      <td>Desserts</td>\n",
       "      <td>11am – 1am (Mon-Sun)</td>\n",
       "      <td>3.8</td>\n",
       "      <td>165.0</td>\n",
       "      <td>300</td>\n",
       "      <td>Mumbai</td>\n",
       "    </tr>\n",
       "  </tbody>\n",
       "</table>\n",
       "</div>"
      ],
      "text/plain": [
       "               TITLE  RESTAURANT_ID  \\\n",
       "0      CASUAL DINING           9438   \n",
       "1  CASUAL DINING,BAR          13198   \n",
       "2      CASUAL DINING          10915   \n",
       "3        QUICK BITES           6346   \n",
       "4     DESSERT PARLOR          15387   \n",
       "\n",
       "                                     CUISINES  \\\n",
       "0                 Malwani, Goan, North Indian   \n",
       "1              Asian, Modern Indian, Japanese   \n",
       "2  North Indian, Chinese, Biryani, Hyderabadi   \n",
       "3                            Tibetan, Chinese   \n",
       "4                                    Desserts   \n",
       "\n",
       "                                     TIME  RATING  VOTES  COST Location  \n",
       "0  11am – 4pm, 7:30pm – 11:30pm (Mon-Sun)     3.6   49.0  1200    Thane  \n",
       "1                    6pm – 11pm (Mon-Sun)     4.2   30.0  1500  Chennai  \n",
       "2     11am – 3:30pm, 7pm – 11pm (Mon-Sun)     3.8  221.0   800  Chennai  \n",
       "3                 11:30am – 1am (Mon-Sun)     4.1   24.0   800   Mumbai  \n",
       "4                    11am – 1am (Mon-Sun)     3.8  165.0   300   Mumbai  "
      ]
     },
     "execution_count": 283,
     "metadata": {},
     "output_type": "execute_result"
    }
   ],
   "source": [
    "df.head()"
   ]
  },
  {
   "cell_type": "code",
   "execution_count": 284,
   "metadata": {},
   "outputs": [
    {
     "data": {
      "text/plain": [
       "<matplotlib.axes._subplots.AxesSubplot at 0x2168d8aeca0>"
      ]
     },
     "execution_count": 284,
     "metadata": {},
     "output_type": "execute_result"
    },
    {
     "data": {
      "image/png": "[encoded data removed]",
      "text/plain": [
       "<Figure size 3600x1440 with 1 Axes>"
      ]
     },
     "metadata": {
      "needs_background": "light"
     },
     "output_type": "display_data"
    }
   ],
   "source": [
    "plt.figure(figsize=(50,20))\n",
    "plt.xlabel(\"Location\", fontsize=40)\n",
    "plt.ylabel(\"Cost\", fontsize=40)\n",
    "plt.xticks(rotation=90,fontsize=30)\n",
    "plt.yticks(rotation=0,fontsize=25)\n",
    "sns.barplot(x=\"Location\",y=\"COST\",data=df)"
   ]
  },
  {
   "cell_type": "markdown",
   "metadata": {},
   "source": [
    "Observation: Mumbai has the highest cost,followed by Gurgaon and least in Kochi"
   ]
  },
  {
   "cell_type": "code",
   "execution_count": 285,
   "metadata": {},
   "outputs": [
    {
     "data": {
      "text/plain": [
       "array(['CASUAL DINING', 'CASUAL DINING,BAR', 'QUICK BITES',\n",
       "       'DESSERT PARLOR', 'CAFÉ', 'MICROBREWERY',\n",
       "       'QUICK BITES,BEVERAGE SHOP', 'CASUAL DINING,IRANI CAFE',\n",
       "       'BAKERY,QUICK BITES', 'None', 'BAR,CASUAL DINING', 'BAR', 'PUB',\n",
       "       'BEVERAGE SHOP', 'FINE DINING', 'CAFÉ,QUICK BITES',\n",
       "       'BEVERAGE SHOP,DESSERT PARLOR', 'SWEET SHOP,QUICK BITES',\n",
       "       'DESSERT PARLOR,SWEET SHOP', 'BAKERY', 'BAKERY,DESSERT PARLOR',\n",
       "       'BAR,LOUNGE', 'FOOD COURT', 'LOUNGE',\n",
       "       'DESSERT PARLOR,BEVERAGE SHOP', 'LOUNGE,CASUAL DINING',\n",
       "       'FOOD TRUCK', 'QUICK BITES,FOOD COURT', 'SWEET SHOP',\n",
       "       'BEVERAGE SHOP,FOOD COURT', 'PUB,CASUAL DINING', 'MESS',\n",
       "       'MICROBREWERY,CASUAL DINING', 'CASUAL DINING,SWEET SHOP', 'KIOSK',\n",
       "       'QUICK BITES,KIOSK', 'CLUB', 'FINE DINING,BAR',\n",
       "       'DESSERT PARLOR,QUICK BITES', 'FOOD COURT,QUICK BITES',\n",
       "       'LOUNGE,CAFÉ', 'BAKERY,CONFECTIONERY', 'CASUAL DINING,CAFÉ',\n",
       "       'DHABA', 'CAFÉ,DESSERT PARLOR', 'QUICK BITES,DESSERT PARLOR',\n",
       "       'PUB,MICROBREWERY', 'LOUNGE,BAR', 'DESSERT PARLOR,CAFÉ',\n",
       "       'CAFÉ,BAR', 'SWEET SHOP,CONFECTIONERY', 'CASUAL DINING,PUB',\n",
       "       'MICROBREWERY,BAR', 'DESSERT PARLOR,BAKERY',\n",
       "       'QUICK BITES,SWEET SHOP', 'BEVERAGE SHOP,QUICK BITES',\n",
       "       'CASUAL DINING,LOUNGE', 'CASUAL DINING,CLUB', 'QUICK BITES,CAFÉ',\n",
       "       'BAR,CAFÉ', 'CAFÉ,CASUAL DINING', 'QUICK BITES,CASUAL DINING',\n",
       "       'CASUAL DINING,MICROBREWERY', 'CASUAL DINING,BAKERY',\n",
       "       'CAFÉ,BAKERY', 'MEAT SHOP', 'QUICK BITES,BAKERY',\n",
       "       'BAR,FINE DINING', 'SWEET SHOP,CASUAL DINING',\n",
       "       'MEAT SHOP,QUICK BITES', 'PUB,LOUNGE', 'BAKERY,CAFÉ',\n",
       "       'COCKTAIL BAR', 'FINE DINING,LOUNGE', 'CONFECTIONERY',\n",
       "       'QUICK BITES,BAR', 'BAKERY,FOOD COURT', 'PUB,BAR',\n",
       "       'DESSERT PARLOR,FOOD COURT', 'QUICK BITES,FOOD TRUCK',\n",
       "       'BAKERY,BEVERAGE SHOP', 'CLUB,BAR', 'BAKERY,SWEET SHOP',\n",
       "       'SWEET SHOP,BAKERY', 'CASUAL DINING,FOOD COURT', 'PAAN SHOP',\n",
       "       'BEVERAGE SHOP,CAFÉ', 'FOOD COURT,DESSERT PARLOR',\n",
       "       'CLUB,MICROBREWERY', 'CAFÉ,BEVERAGE SHOP',\n",
       "       'DESSERT PARLOR,PAAN SHOP', 'MICROBREWERY,LOUNGE', 'LOUNGE,CLUB',\n",
       "       'SWEET SHOP,DESSERT PARLOR', 'BAR,PUB',\n",
       "       'CONFECTIONERY,QUICK BITES', 'DESSERT PARLOR,KIOSK', 'LOUNGE,PUB',\n",
       "       'SWEET SHOP,BEVERAGE SHOP', 'FINE DINING,CAFÉ',\n",
       "       'BEVERAGE SHOP,CASUAL DINING', 'KIOSK,QUICK BITES',\n",
       "       'CASUAL DINING,DESSERT PARLOR', 'LOUNGE,FINE DINING', 'PUB,CAFÉ',\n",
       "       'CAFÉ,LOUNGE', 'BAR,CLUB', 'COCKTAIL BAR,CASUAL DINING',\n",
       "       'MICROBREWERY,PUB', 'CAFÉ,FINE DINING', 'KIOSK,FOOD COURT',\n",
       "       'LOUNGE,MICROBREWERY', 'BAR,MICROBREWERY'], dtype=object)"
      ]
     },
     "execution_count": 285,
     "metadata": {},
     "output_type": "execute_result"
    }
   ],
   "source": [
    "df[\"TITLE\"].unique()"
   ]
  },
  {
   "cell_type": "code",
   "execution_count": 286,
   "metadata": {},
   "outputs": [],
   "source": [
    "title_list=[]\n",
    "for row in df['TITLE']:\n",
    "    title_list.append(list(row.split(',')))\n",
    "df['TITLE']=title_list"
   ]
  },
  {
   "cell_type": "raw",
   "metadata": {},
   "source": [
    "A paricular restaurant has more than one title so splitting it into different categories and creating another series with title name"
   ]
  },
  {
   "cell_type": "code",
   "execution_count": 287,
   "metadata": {},
   "outputs": [],
   "source": [
    "df_title=df['TITLE'].apply(lambda x: pd.Series(1, x))\n",
    "df_title.replace(to_replace =np.NaN, \n",
    "                 value =0,inplace=True)"
   ]
  },
  {
   "cell_type": "code",
   "execution_count": 288,
   "metadata": {
    "scrolled": false
   },
   "outputs": [
    {
     "data": {
      "text/html": [
       "<div>\n",
       "<style scoped>\n",
       "    .dataframe tbody tr th:only-of-type {\n",
       "        vertical-align: middle;\n",
       "    }\n",
       "\n",
       "    .dataframe tbody tr th {\n",
       "        vertical-align: top;\n",
       "    }\n",
       "\n",
       "    .dataframe thead th {\n",
       "        text-align: right;\n",
       "    }\n",
       "</style>\n",
       "<table border=\"1\" class=\"dataframe\">\n",
       "  <thead>\n",
       "    <tr style=\"text-align: right;\">\n",
       "      <th></th>\n",
       "      <th>CASUAL DINING</th>\n",
       "      <th>BAR</th>\n",
       "      <th>QUICK BITES</th>\n",
       "      <th>DESSERT PARLOR</th>\n",
       "      <th>CAFÉ</th>\n",
       "      <th>MICROBREWERY</th>\n",
       "      <th>BEVERAGE SHOP</th>\n",
       "      <th>IRANI CAFE</th>\n",
       "      <th>BAKERY</th>\n",
       "      <th>None</th>\n",
       "      <th>...</th>\n",
       "      <th>FOOD COURT</th>\n",
       "      <th>FOOD TRUCK</th>\n",
       "      <th>MESS</th>\n",
       "      <th>KIOSK</th>\n",
       "      <th>CLUB</th>\n",
       "      <th>CONFECTIONERY</th>\n",
       "      <th>DHABA</th>\n",
       "      <th>MEAT SHOP</th>\n",
       "      <th>COCKTAIL BAR</th>\n",
       "      <th>PAAN SHOP</th>\n",
       "    </tr>\n",
       "  </thead>\n",
       "  <tbody>\n",
       "    <tr>\n",
       "      <th>0</th>\n",
       "      <td>1.0</td>\n",
       "      <td>0.0</td>\n",
       "      <td>0.0</td>\n",
       "      <td>0.0</td>\n",
       "      <td>0.0</td>\n",
       "      <td>0.0</td>\n",
       "      <td>0.0</td>\n",
       "      <td>0.0</td>\n",
       "      <td>0.0</td>\n",
       "      <td>0.0</td>\n",
       "      <td>...</td>\n",
       "      <td>0.0</td>\n",
       "      <td>0.0</td>\n",
       "      <td>0.0</td>\n",
       "      <td>0.0</td>\n",
       "      <td>0.0</td>\n",
       "      <td>0.0</td>\n",
       "      <td>0.0</td>\n",
       "      <td>0.0</td>\n",
       "      <td>0.0</td>\n",
       "      <td>0.0</td>\n",
       "    </tr>\n",
       "    <tr>\n",
       "      <th>1</th>\n",
       "      <td>1.0</td>\n",
       "      <td>1.0</td>\n",
       "      <td>0.0</td>\n",
       "      <td>0.0</td>\n",
       "      <td>0.0</td>\n",
       "      <td>0.0</td>\n",
       "      <td>0.0</td>\n",
       "      <td>0.0</td>\n",
       "      <td>0.0</td>\n",
       "      <td>0.0</td>\n",
       "      <td>...</td>\n",
       "      <td>0.0</td>\n",
       "      <td>0.0</td>\n",
       "      <td>0.0</td>\n",
       "      <td>0.0</td>\n",
       "      <td>0.0</td>\n",
       "      <td>0.0</td>\n",
       "      <td>0.0</td>\n",
       "      <td>0.0</td>\n",
       "      <td>0.0</td>\n",
       "      <td>0.0</td>\n",
       "    </tr>\n",
       "    <tr>\n",
       "      <th>2</th>\n",
       "      <td>1.0</td>\n",
       "      <td>0.0</td>\n",
       "      <td>0.0</td>\n",
       "      <td>0.0</td>\n",
       "      <td>0.0</td>\n",
       "      <td>0.0</td>\n",
       "      <td>0.0</td>\n",
       "      <td>0.0</td>\n",
       "      <td>0.0</td>\n",
       "      <td>0.0</td>\n",
       "      <td>...</td>\n",
       "      <td>0.0</td>\n",
       "      <td>0.0</td>\n",
       "      <td>0.0</td>\n",
       "      <td>0.0</td>\n",
       "      <td>0.0</td>\n",
       "      <td>0.0</td>\n",
       "      <td>0.0</td>\n",
       "      <td>0.0</td>\n",
       "      <td>0.0</td>\n",
       "      <td>0.0</td>\n",
       "    </tr>\n",
       "    <tr>\n",
       "      <th>3</th>\n",
       "      <td>0.0</td>\n",
       "      <td>0.0</td>\n",
       "      <td>1.0</td>\n",
       "      <td>0.0</td>\n",
       "      <td>0.0</td>\n",
       "      <td>0.0</td>\n",
       "      <td>0.0</td>\n",
       "      <td>0.0</td>\n",
       "      <td>0.0</td>\n",
       "      <td>0.0</td>\n",
       "      <td>...</td>\n",
       "      <td>0.0</td>\n",
       "      <td>0.0</td>\n",
       "      <td>0.0</td>\n",
       "      <td>0.0</td>\n",
       "      <td>0.0</td>\n",
       "      <td>0.0</td>\n",
       "      <td>0.0</td>\n",
       "      <td>0.0</td>\n",
       "      <td>0.0</td>\n",
       "      <td>0.0</td>\n",
       "    </tr>\n",
       "    <tr>\n",
       "      <th>4</th>\n",
       "      <td>0.0</td>\n",
       "      <td>0.0</td>\n",
       "      <td>0.0</td>\n",
       "      <td>1.0</td>\n",
       "      <td>0.0</td>\n",
       "      <td>0.0</td>\n",
       "      <td>0.0</td>\n",
       "      <td>0.0</td>\n",
       "      <td>0.0</td>\n",
       "      <td>0.0</td>\n",
       "      <td>...</td>\n",
       "      <td>0.0</td>\n",
       "      <td>0.0</td>\n",
       "      <td>0.0</td>\n",
       "      <td>0.0</td>\n",
       "      <td>0.0</td>\n",
       "      <td>0.0</td>\n",
       "      <td>0.0</td>\n",
       "      <td>0.0</td>\n",
       "      <td>0.0</td>\n",
       "      <td>0.0</td>\n",
       "    </tr>\n",
       "  </tbody>\n",
       "</table>\n",
       "<p>5 rows × 24 columns</p>\n",
       "</div>"
      ],
      "text/plain": [
       "   CASUAL DINING  BAR  QUICK BITES  DESSERT PARLOR  CAFÉ  MICROBREWERY  \\\n",
       "0            1.0  0.0          0.0             0.0   0.0           0.0   \n",
       "1            1.0  1.0          0.0             0.0   0.0           0.0   \n",
       "2            1.0  0.0          0.0             0.0   0.0           0.0   \n",
       "3            0.0  0.0          1.0             0.0   0.0           0.0   \n",
       "4            0.0  0.0          0.0             1.0   0.0           0.0   \n",
       "\n",
       "   BEVERAGE SHOP  IRANI CAFE  BAKERY  None  ...  FOOD COURT  FOOD TRUCK  MESS  \\\n",
       "0            0.0         0.0     0.0   0.0  ...         0.0         0.0   0.0   \n",
       "1            0.0         0.0     0.0   0.0  ...         0.0         0.0   0.0   \n",
       "2            0.0         0.0     0.0   0.0  ...         0.0         0.0   0.0   \n",
       "3            0.0         0.0     0.0   0.0  ...         0.0         0.0   0.0   \n",
       "4            0.0         0.0     0.0   0.0  ...         0.0         0.0   0.0   \n",
       "\n",
       "   KIOSK  CLUB  CONFECTIONERY  DHABA  MEAT SHOP  COCKTAIL BAR  PAAN SHOP  \n",
       "0    0.0   0.0            0.0    0.0        0.0           0.0        0.0  \n",
       "1    0.0   0.0            0.0    0.0        0.0           0.0        0.0  \n",
       "2    0.0   0.0            0.0    0.0        0.0           0.0        0.0  \n",
       "3    0.0   0.0            0.0    0.0        0.0           0.0        0.0  \n",
       "4    0.0   0.0            0.0    0.0        0.0           0.0        0.0  \n",
       "\n",
       "[5 rows x 24 columns]"
      ]
     },
     "execution_count": 288,
     "metadata": {},
     "output_type": "execute_result"
    }
   ],
   "source": [
    "df_title.head()\n"
   ]
  },
  {
   "cell_type": "code",
   "execution_count": 289,
   "metadata": {},
   "outputs": [],
   "source": [
    "df['count'] = df['CUISINES'].str.split(\",\").str.len()\n",
    "#finding number of cuisines in a restaurant"
   ]
  },
  {
   "cell_type": "markdown",
   "metadata": {},
   "source": [
    "cuisines_list=[]\n",
    "for row in df['CUISINES']:\n",
    "    cuisines_list.append(list(row.split(',')))\n",
    "\n",
    "df['CUISINES']=cuisines_list"
   ]
  },
  {
   "cell_type": "markdown",
   "metadata": {},
   "source": [
    "df_cuisines=df['CUISINES'].apply(lambda x: pd.Series(1, x))\n",
    "df_cuisines.replace(to_replace =np.NaN, \n",
    "                 value =0,inplace=True)\n"
   ]
  },
  {
   "cell_type": "code",
   "execution_count": 157,
   "metadata": {},
   "outputs": [
    {
     "data": {
      "text/html": [
       "<div>\n",
       "<style scoped>\n",
       "    .dataframe tbody tr th:only-of-type {\n",
       "        vertical-align: middle;\n",
       "    }\n",
       "\n",
       "    .dataframe tbody tr th {\n",
       "        vertical-align: top;\n",
       "    }\n",
       "\n",
       "    .dataframe thead th {\n",
       "        text-align: right;\n",
       "    }\n",
       "</style>\n",
       "<table border=\"1\" class=\"dataframe\">\n",
       "  <thead>\n",
       "    <tr style=\"text-align: right;\">\n",
       "      <th></th>\n",
       "      <th>TITLE</th>\n",
       "      <th>RESTAURANT_ID</th>\n",
       "      <th>CUISINES</th>\n",
       "      <th>TIME</th>\n",
       "      <th>RATING</th>\n",
       "      <th>VOTES</th>\n",
       "      <th>COST</th>\n",
       "      <th>Location</th>\n",
       "      <th>count</th>\n",
       "    </tr>\n",
       "  </thead>\n",
       "  <tbody>\n",
       "    <tr>\n",
       "      <th>0</th>\n",
       "      <td>[CASUAL DINING]</td>\n",
       "      <td>9438</td>\n",
       "      <td>[Malwani,  Goan,  North Indian]</td>\n",
       "      <td>11am – 4pm, 7:30pm – 11:30pm (Mon-Sun)</td>\n",
       "      <td>3.6</td>\n",
       "      <td>49.0</td>\n",
       "      <td>1200</td>\n",
       "      <td>Thane</td>\n",
       "      <td>3</td>\n",
       "    </tr>\n",
       "    <tr>\n",
       "      <th>1</th>\n",
       "      <td>[CASUAL DINING, BAR]</td>\n",
       "      <td>13198</td>\n",
       "      <td>[Asian,  Modern Indian,  Japanese]</td>\n",
       "      <td>6pm – 11pm (Mon-Sun)</td>\n",
       "      <td>4.2</td>\n",
       "      <td>30.0</td>\n",
       "      <td>1500</td>\n",
       "      <td>Chennai</td>\n",
       "      <td>3</td>\n",
       "    </tr>\n",
       "    <tr>\n",
       "      <th>2</th>\n",
       "      <td>[CASUAL DINING]</td>\n",
       "      <td>10915</td>\n",
       "      <td>[North Indian,  Chinese,  Biryani,  Hyderabadi]</td>\n",
       "      <td>11am – 3:30pm, 7pm – 11pm (Mon-Sun)</td>\n",
       "      <td>3.8</td>\n",
       "      <td>221.0</td>\n",
       "      <td>800</td>\n",
       "      <td>Chennai</td>\n",
       "      <td>4</td>\n",
       "    </tr>\n",
       "    <tr>\n",
       "      <th>3</th>\n",
       "      <td>[QUICK BITES]</td>\n",
       "      <td>6346</td>\n",
       "      <td>[Tibetan,  Chinese]</td>\n",
       "      <td>11:30am – 1am (Mon-Sun)</td>\n",
       "      <td>4.1</td>\n",
       "      <td>24.0</td>\n",
       "      <td>800</td>\n",
       "      <td>Mumbai</td>\n",
       "      <td>2</td>\n",
       "    </tr>\n",
       "    <tr>\n",
       "      <th>4</th>\n",
       "      <td>[DESSERT PARLOR]</td>\n",
       "      <td>15387</td>\n",
       "      <td>[Desserts]</td>\n",
       "      <td>11am – 1am (Mon-Sun)</td>\n",
       "      <td>3.8</td>\n",
       "      <td>165.0</td>\n",
       "      <td>300</td>\n",
       "      <td>Mumbai</td>\n",
       "      <td>1</td>\n",
       "    </tr>\n",
       "  </tbody>\n",
       "</table>\n",
       "</div>"
      ],
      "text/plain": [
       "                  TITLE  RESTAURANT_ID  \\\n",
       "0       [CASUAL DINING]           9438   \n",
       "1  [CASUAL DINING, BAR]          13198   \n",
       "2       [CASUAL DINING]          10915   \n",
       "3         [QUICK BITES]           6346   \n",
       "4      [DESSERT PARLOR]          15387   \n",
       "\n",
       "                                          CUISINES  \\\n",
       "0                  [Malwani,  Goan,  North Indian]   \n",
       "1               [Asian,  Modern Indian,  Japanese]   \n",
       "2  [North Indian,  Chinese,  Biryani,  Hyderabadi]   \n",
       "3                              [Tibetan,  Chinese]   \n",
       "4                                       [Desserts]   \n",
       "\n",
       "                                     TIME  RATING  VOTES  COST Location  count  \n",
       "0  11am – 4pm, 7:30pm – 11:30pm (Mon-Sun)     3.6   49.0  1200    Thane      3  \n",
       "1                    6pm – 11pm (Mon-Sun)     4.2   30.0  1500  Chennai      3  \n",
       "2     11am – 3:30pm, 7pm – 11pm (Mon-Sun)     3.8  221.0   800  Chennai      4  \n",
       "3                 11:30am – 1am (Mon-Sun)     4.1   24.0   800   Mumbai      2  \n",
       "4                    11am – 1am (Mon-Sun)     3.8  165.0   300   Mumbai      1  "
      ]
     },
     "execution_count": 157,
     "metadata": {},
     "output_type": "execute_result"
    }
   ],
   "source": [
    "df.head()"
   ]
  },
  {
   "cell_type": "code",
   "execution_count": 290,
   "metadata": {},
   "outputs": [
    {
     "data": {
      "text/plain": [
       "<matplotlib.axes._subplots.AxesSubplot at 0x2169b63ca90>"
      ]
     },
     "execution_count": 290,
     "metadata": {},
     "output_type": "execute_result"
    },
    {
     "data": {
      "image/png": "[encoded data removed]",
      "text/plain": [
       "<Figure size 3600x1440 with 1 Axes>"
      ]
     },
     "metadata": {
      "needs_background": "light"
     },
     "output_type": "display_data"
    }
   ],
   "source": [
    "plt.figure(figsize=(50,20))\n",
    "plt.xlabel(\"count\", fontsize=40)\n",
    "plt.ylabel(\"Cost\", fontsize=40)\n",
    "plt.xticks(rotation=90,fontsize=30)\n",
    "plt.yticks(rotation=0,fontsize=25)\n",
    "sns.barplot(x=\"count\",y=\"COST\",data=df)"
   ]
  },
  {
   "cell_type": "markdown",
   "metadata": {},
   "source": [
    "Observation: Cuisine count with 6 has more cost than compared to others\n",
    "    "
   ]
  },
  {
   "cell_type": "code",
   "execution_count": 291,
   "metadata": {},
   "outputs": [
    {
     "data": {
      "text/plain": [
       "<matplotlib.axes._subplots.AxesSubplot at 0x2168160ed60>"
      ]
     },
     "execution_count": 291,
     "metadata": {},
     "output_type": "execute_result"
    },
    {
     "data": {
      "image/png": "[encoded data removed]",
      "text/plain": [
       "<Figure size 3600x1440 with 1 Axes>"
      ]
     },
     "metadata": {
      "needs_background": "light"
     },
     "output_type": "display_data"
    }
   ],
   "source": [
    "plt.figure(figsize=(50,20))\n",
    "plt.xlabel(\"RATING\", fontsize=40)\n",
    "plt.ylabel(\"Cost\", fontsize=40)\n",
    "plt.xticks(rotation=90,fontsize=30)\n",
    "plt.yticks(rotation=0,fontsize=25)\n",
    "sns.barplot(x=\"RATING\",y=\"COST\",data=df)"
   ]
  },
  {
   "cell_type": "code",
   "execution_count": 160,
   "metadata": {},
   "outputs": [
    {
     "data": {
      "text/plain": [
       "Text(0, 0.5, 'cost')"
      ]
     },
     "execution_count": 160,
     "metadata": {},
     "output_type": "execute_result"
    },
    {
     "data": {
      "image/png": "[encoded data removed]",
      "text/plain": [
       "<Figure size 432x288 with 1 Axes>"
      ]
     },
     "metadata": {
      "needs_background": "light"
     },
     "output_type": "display_data"
    }
   ],
   "source": [
    "plt.scatter(x=df[\"VOTES\"],y=df[\"COST\"])\n",
    "plt.xlabel(\"votes\", fontsize=15)\n",
    "plt.ylabel(\"cost\", fontsize=15)"
   ]
  },
  {
   "cell_type": "code",
   "execution_count": 292,
   "metadata": {},
   "outputs": [],
   "source": [
    "df_new = pd.concat([df,df_title], axis=1)\n",
    "df_new.drop(columns=[\"TITLE\",\"CUISINES\",'RESTAURANT_ID',\"TIME\"],axis=1,inplace=True)"
   ]
  },
  {
   "cell_type": "code",
   "execution_count": 165,
   "metadata": {},
   "outputs": [
    {
     "data": {
      "text/html": [
       "<div>\n",
       "<style scoped>\n",
       "    .dataframe tbody tr th:only-of-type {\n",
       "        vertical-align: middle;\n",
       "    }\n",
       "\n",
       "    .dataframe tbody tr th {\n",
       "        vertical-align: top;\n",
       "    }\n",
       "\n",
       "    .dataframe thead th {\n",
       "        text-align: right;\n",
       "    }\n",
       "</style>\n",
       "<table border=\"1\" class=\"dataframe\">\n",
       "  <thead>\n",
       "    <tr style=\"text-align: right;\">\n",
       "      <th></th>\n",
       "      <th>RESTAURANT_ID</th>\n",
       "      <th>RATING</th>\n",
       "      <th>VOTES</th>\n",
       "      <th>COST</th>\n",
       "      <th>Location</th>\n",
       "      <th>count</th>\n",
       "      <th>Malwani</th>\n",
       "      <th>Goan</th>\n",
       "      <th>North Indian</th>\n",
       "      <th>Asian</th>\n",
       "      <th>...</th>\n",
       "      <th>FOOD COURT</th>\n",
       "      <th>FOOD TRUCK</th>\n",
       "      <th>MESS</th>\n",
       "      <th>KIOSK</th>\n",
       "      <th>CLUB</th>\n",
       "      <th>CONFECTIONERY</th>\n",
       "      <th>DHABA</th>\n",
       "      <th>MEAT SHOP</th>\n",
       "      <th>COCKTAIL BAR</th>\n",
       "      <th>PAAN SHOP</th>\n",
       "    </tr>\n",
       "  </thead>\n",
       "  <tbody>\n",
       "    <tr>\n",
       "      <th>0</th>\n",
       "      <td>9438</td>\n",
       "      <td>3.6</td>\n",
       "      <td>49.0</td>\n",
       "      <td>1200</td>\n",
       "      <td>Thane</td>\n",
       "      <td>3</td>\n",
       "      <td>1.0</td>\n",
       "      <td>1.0</td>\n",
       "      <td>1.0</td>\n",
       "      <td>0.0</td>\n",
       "      <td>...</td>\n",
       "      <td>0.0</td>\n",
       "      <td>0.0</td>\n",
       "      <td>0.0</td>\n",
       "      <td>0.0</td>\n",
       "      <td>0.0</td>\n",
       "      <td>0.0</td>\n",
       "      <td>0.0</td>\n",
       "      <td>0.0</td>\n",
       "      <td>0.0</td>\n",
       "      <td>0.0</td>\n",
       "    </tr>\n",
       "    <tr>\n",
       "      <th>1</th>\n",
       "      <td>13198</td>\n",
       "      <td>4.2</td>\n",
       "      <td>30.0</td>\n",
       "      <td>1500</td>\n",
       "      <td>Chennai</td>\n",
       "      <td>3</td>\n",
       "      <td>0.0</td>\n",
       "      <td>0.0</td>\n",
       "      <td>0.0</td>\n",
       "      <td>1.0</td>\n",
       "      <td>...</td>\n",
       "      <td>0.0</td>\n",
       "      <td>0.0</td>\n",
       "      <td>0.0</td>\n",
       "      <td>0.0</td>\n",
       "      <td>0.0</td>\n",
       "      <td>0.0</td>\n",
       "      <td>0.0</td>\n",
       "      <td>0.0</td>\n",
       "      <td>0.0</td>\n",
       "      <td>0.0</td>\n",
       "    </tr>\n",
       "    <tr>\n",
       "      <th>2</th>\n",
       "      <td>10915</td>\n",
       "      <td>3.8</td>\n",
       "      <td>221.0</td>\n",
       "      <td>800</td>\n",
       "      <td>Chennai</td>\n",
       "      <td>4</td>\n",
       "      <td>0.0</td>\n",
       "      <td>0.0</td>\n",
       "      <td>0.0</td>\n",
       "      <td>0.0</td>\n",
       "      <td>...</td>\n",
       "      <td>0.0</td>\n",
       "      <td>0.0</td>\n",
       "      <td>0.0</td>\n",
       "      <td>0.0</td>\n",
       "      <td>0.0</td>\n",
       "      <td>0.0</td>\n",
       "      <td>0.0</td>\n",
       "      <td>0.0</td>\n",
       "      <td>0.0</td>\n",
       "      <td>0.0</td>\n",
       "    </tr>\n",
       "    <tr>\n",
       "      <th>3</th>\n",
       "      <td>6346</td>\n",
       "      <td>4.1</td>\n",
       "      <td>24.0</td>\n",
       "      <td>800</td>\n",
       "      <td>Mumbai</td>\n",
       "      <td>2</td>\n",
       "      <td>0.0</td>\n",
       "      <td>0.0</td>\n",
       "      <td>0.0</td>\n",
       "      <td>0.0</td>\n",
       "      <td>...</td>\n",
       "      <td>0.0</td>\n",
       "      <td>0.0</td>\n",
       "      <td>0.0</td>\n",
       "      <td>0.0</td>\n",
       "      <td>0.0</td>\n",
       "      <td>0.0</td>\n",
       "      <td>0.0</td>\n",
       "      <td>0.0</td>\n",
       "      <td>0.0</td>\n",
       "      <td>0.0</td>\n",
       "    </tr>\n",
       "    <tr>\n",
       "      <th>4</th>\n",
       "      <td>15387</td>\n",
       "      <td>3.8</td>\n",
       "      <td>165.0</td>\n",
       "      <td>300</td>\n",
       "      <td>Mumbai</td>\n",
       "      <td>1</td>\n",
       "      <td>0.0</td>\n",
       "      <td>0.0</td>\n",
       "      <td>0.0</td>\n",
       "      <td>0.0</td>\n",
       "      <td>...</td>\n",
       "      <td>0.0</td>\n",
       "      <td>0.0</td>\n",
       "      <td>0.0</td>\n",
       "      <td>0.0</td>\n",
       "      <td>0.0</td>\n",
       "      <td>0.0</td>\n",
       "      <td>0.0</td>\n",
       "      <td>0.0</td>\n",
       "      <td>0.0</td>\n",
       "      <td>0.0</td>\n",
       "    </tr>\n",
       "    <tr>\n",
       "      <th>...</th>\n",
       "      <td>...</td>\n",
       "      <td>...</td>\n",
       "      <td>...</td>\n",
       "      <td>...</td>\n",
       "      <td>...</td>\n",
       "      <td>...</td>\n",
       "      <td>...</td>\n",
       "      <td>...</td>\n",
       "      <td>...</td>\n",
       "      <td>...</td>\n",
       "      <td>...</td>\n",
       "      <td>...</td>\n",
       "      <td>...</td>\n",
       "      <td>...</td>\n",
       "      <td>...</td>\n",
       "      <td>...</td>\n",
       "      <td>...</td>\n",
       "      <td>...</td>\n",
       "      <td>...</td>\n",
       "      <td>...</td>\n",
       "      <td>...</td>\n",
       "    </tr>\n",
       "    <tr>\n",
       "      <th>12685</th>\n",
       "      <td>13228</td>\n",
       "      <td>3.8</td>\n",
       "      <td>546.0</td>\n",
       "      <td>500</td>\n",
       "      <td>Hyderabad</td>\n",
       "      <td>3</td>\n",
       "      <td>0.0</td>\n",
       "      <td>0.0</td>\n",
       "      <td>0.0</td>\n",
       "      <td>0.0</td>\n",
       "      <td>...</td>\n",
       "      <td>0.0</td>\n",
       "      <td>0.0</td>\n",
       "      <td>0.0</td>\n",
       "      <td>0.0</td>\n",
       "      <td>0.0</td>\n",
       "      <td>0.0</td>\n",
       "      <td>0.0</td>\n",
       "      <td>0.0</td>\n",
       "      <td>0.0</td>\n",
       "      <td>0.0</td>\n",
       "    </tr>\n",
       "    <tr>\n",
       "      <th>12686</th>\n",
       "      <td>9686</td>\n",
       "      <td>4.3</td>\n",
       "      <td>1214.0</td>\n",
       "      <td>1800</td>\n",
       "      <td>Mumbai</td>\n",
       "      <td>2</td>\n",
       "      <td>0.0</td>\n",
       "      <td>0.0</td>\n",
       "      <td>0.0</td>\n",
       "      <td>0.0</td>\n",
       "      <td>...</td>\n",
       "      <td>0.0</td>\n",
       "      <td>0.0</td>\n",
       "      <td>0.0</td>\n",
       "      <td>0.0</td>\n",
       "      <td>0.0</td>\n",
       "      <td>0.0</td>\n",
       "      <td>0.0</td>\n",
       "      <td>0.0</td>\n",
       "      <td>0.0</td>\n",
       "      <td>0.0</td>\n",
       "    </tr>\n",
       "    <tr>\n",
       "      <th>12687</th>\n",
       "      <td>11133</td>\n",
       "      <td>4.0</td>\n",
       "      <td>608.0</td>\n",
       "      <td>1300</td>\n",
       "      <td>Mumbai</td>\n",
       "      <td>4</td>\n",
       "      <td>0.0</td>\n",
       "      <td>0.0</td>\n",
       "      <td>0.0</td>\n",
       "      <td>0.0</td>\n",
       "      <td>...</td>\n",
       "      <td>0.0</td>\n",
       "      <td>0.0</td>\n",
       "      <td>0.0</td>\n",
       "      <td>0.0</td>\n",
       "      <td>0.0</td>\n",
       "      <td>0.0</td>\n",
       "      <td>0.0</td>\n",
       "      <td>0.0</td>\n",
       "      <td>0.0</td>\n",
       "      <td>0.0</td>\n",
       "    </tr>\n",
       "    <tr>\n",
       "      <th>12688</th>\n",
       "      <td>6134</td>\n",
       "      <td>3.5</td>\n",
       "      <td>32.0</td>\n",
       "      <td>400</td>\n",
       "      <td>Chennai</td>\n",
       "      <td>4</td>\n",
       "      <td>0.0</td>\n",
       "      <td>0.0</td>\n",
       "      <td>0.0</td>\n",
       "      <td>0.0</td>\n",
       "      <td>...</td>\n",
       "      <td>0.0</td>\n",
       "      <td>0.0</td>\n",
       "      <td>0.0</td>\n",
       "      <td>0.0</td>\n",
       "      <td>0.0</td>\n",
       "      <td>0.0</td>\n",
       "      <td>0.0</td>\n",
       "      <td>0.0</td>\n",
       "      <td>0.0</td>\n",
       "      <td>0.0</td>\n",
       "    </tr>\n",
       "    <tr>\n",
       "      <th>12689</th>\n",
       "      <td>6430</td>\n",
       "      <td>3.4</td>\n",
       "      <td>677.0</td>\n",
       "      <td>600</td>\n",
       "      <td>Hyderabad</td>\n",
       "      <td>2</td>\n",
       "      <td>0.0</td>\n",
       "      <td>0.0</td>\n",
       "      <td>0.0</td>\n",
       "      <td>0.0</td>\n",
       "      <td>...</td>\n",
       "      <td>0.0</td>\n",
       "      <td>0.0</td>\n",
       "      <td>0.0</td>\n",
       "      <td>0.0</td>\n",
       "      <td>0.0</td>\n",
       "      <td>0.0</td>\n",
       "      <td>0.0</td>\n",
       "      <td>0.0</td>\n",
       "      <td>0.0</td>\n",
       "      <td>0.0</td>\n",
       "    </tr>\n",
       "  </tbody>\n",
       "</table>\n",
       "<p>12690 rows × 250 columns</p>\n",
       "</div>"
      ],
      "text/plain": [
       "       RESTAURANT_ID  RATING   VOTES  COST   Location  count  Malwani   Goan  \\\n",
       "0               9438     3.6    49.0  1200      Thane      3      1.0    1.0   \n",
       "1              13198     4.2    30.0  1500    Chennai      3      0.0    0.0   \n",
       "2              10915     3.8   221.0   800    Chennai      4      0.0    0.0   \n",
       "3               6346     4.1    24.0   800     Mumbai      2      0.0    0.0   \n",
       "4              15387     3.8   165.0   300     Mumbai      1      0.0    0.0   \n",
       "...              ...     ...     ...   ...        ...    ...      ...    ...   \n",
       "12685          13228     3.8   546.0   500  Hyderabad      3      0.0    0.0   \n",
       "12686           9686     4.3  1214.0  1800     Mumbai      2      0.0    0.0   \n",
       "12687          11133     4.0   608.0  1300     Mumbai      4      0.0    0.0   \n",
       "12688           6134     3.5    32.0   400    Chennai      4      0.0    0.0   \n",
       "12689           6430     3.4   677.0   600  Hyderabad      2      0.0    0.0   \n",
       "\n",
       "        North Indian  Asian  ...  FOOD COURT  FOOD TRUCK  MESS  KIOSK  CLUB  \\\n",
       "0                1.0    0.0  ...         0.0         0.0   0.0    0.0   0.0   \n",
       "1                0.0    1.0  ...         0.0         0.0   0.0    0.0   0.0   \n",
       "2                0.0    0.0  ...         0.0         0.0   0.0    0.0   0.0   \n",
       "3                0.0    0.0  ...         0.0         0.0   0.0    0.0   0.0   \n",
       "4                0.0    0.0  ...         0.0         0.0   0.0    0.0   0.0   \n",
       "...              ...    ...  ...         ...         ...   ...    ...   ...   \n",
       "12685            0.0    0.0  ...         0.0         0.0   0.0    0.0   0.0   \n",
       "12686            0.0    0.0  ...         0.0         0.0   0.0    0.0   0.0   \n",
       "12687            0.0    0.0  ...         0.0         0.0   0.0    0.0   0.0   \n",
       "12688            0.0    0.0  ...         0.0         0.0   0.0    0.0   0.0   \n",
       "12689            0.0    0.0  ...         0.0         0.0   0.0    0.0   0.0   \n",
       "\n",
       "       CONFECTIONERY  DHABA  MEAT SHOP  COCKTAIL BAR  PAAN SHOP  \n",
       "0                0.0    0.0        0.0           0.0        0.0  \n",
       "1                0.0    0.0        0.0           0.0        0.0  \n",
       "2                0.0    0.0        0.0           0.0        0.0  \n",
       "3                0.0    0.0        0.0           0.0        0.0  \n",
       "4                0.0    0.0        0.0           0.0        0.0  \n",
       "...              ...    ...        ...           ...        ...  \n",
       "12685            0.0    0.0        0.0           0.0        0.0  \n",
       "12686            0.0    0.0        0.0           0.0        0.0  \n",
       "12687            0.0    0.0        0.0           0.0        0.0  \n",
       "12688            0.0    0.0        0.0           0.0        0.0  \n",
       "12689            0.0    0.0        0.0           0.0        0.0  \n",
       "\n",
       "[12690 rows x 250 columns]"
      ]
     },
     "execution_count": 165,
     "metadata": {},
     "output_type": "execute_result"
    }
   ],
   "source": [
    "df_new"
   ]
  },
  {
   "cell_type": "code",
   "execution_count": 294,
   "metadata": {},
   "outputs": [],
   "source": [
    "from sklearn.preprocessing import LabelEncoder\n",
    "labelencoder=LabelEncoder()\n",
    "df_new[\"Location\"] = labelencoder.fit_transform(df_new[\"Location\"])\n"
   ]
  },
  {
   "cell_type": "code",
   "execution_count": 295,
   "metadata": {},
   "outputs": [
    {
     "name": "stdout",
     "output_type": "stream",
     "text": [
      "(7633, 29) \n",
      " (12690, 29)\n"
     ]
    }
   ],
   "source": [
    "from scipy import stats\n",
    "from scipy import stats\n",
    "import numpy as np\n",
    "z = np.abs(stats.zscore(df_new))\n",
    "threshold=3\n",
    "df_av =df_new[(z < 3).all(axis=1)]\n",
    "#removing outliers\n",
    "print(df_av.shape,\"\\n\",df_new.shape)\n",
    "#printing the shape after removing outliers"
   ]
  },
  {
   "cell_type": "markdown",
   "metadata": {},
   "source": [
    "Observation after removing outliers , a lot of rows are dropped so we wont remove outliers and continue like this "
   ]
  },
  {
   "cell_type": "code",
   "execution_count": 296,
   "metadata": {
    "scrolled": true
   },
   "outputs": [
    {
     "data": {
      "text/plain": [
       "COST              1.000000\n",
       "FINE DINING       0.612405\n",
       "RATING            0.318653\n",
       "BAR               0.315380\n",
       "VOTES             0.251294\n",
       "CASUAL DINING     0.242909\n",
       "LOUNGE            0.228608\n",
       "count             0.227976\n",
       "PUB               0.142727\n",
       "CLUB              0.123628\n",
       "MICROBREWERY      0.121704\n",
       "COCKTAIL BAR      0.065727\n",
       "CAFÉ              0.022066\n",
       "IRANI CAFE        0.018266\n",
       "Location         -0.003353\n",
       "MEAT SHOP        -0.004216\n",
       "CONFECTIONERY    -0.009349\n",
       "PAAN SHOP        -0.016949\n",
       "DHABA            -0.025513\n",
       "FOOD TRUCK       -0.030127\n",
       "FOOD COURT       -0.034188\n",
       "MESS             -0.041313\n",
       "KIOSK            -0.047207\n",
       "SWEET SHOP       -0.065009\n",
       "BEVERAGE SHOP    -0.087889\n",
       "BAKERY           -0.096356\n",
       "None             -0.111998\n",
       "DESSERT PARLOR   -0.116858\n",
       "QUICK BITES      -0.369266\n",
       "Name: COST, dtype: float64"
      ]
     },
     "execution_count": 296,
     "metadata": {},
     "output_type": "execute_result"
    }
   ],
   "source": [
    "corr_matrix_price=df_new.corr()\n",
    "corr_matrix_price[\"COST\"].sort_values(ascending=False)"
   ]
  },
  {
   "cell_type": "code",
   "execution_count": 297,
   "metadata": {},
   "outputs": [],
   "source": [
    "x_p=df_new.drop(\"COST\",axis=1)\n",
    "y=df_new[\"COST\"]"
   ]
  },
  {
   "cell_type": "code",
   "execution_count": 298,
   "metadata": {},
   "outputs": [],
   "source": [
    "from sklearn.preprocessing import StandardScaler\n",
    "sc=StandardScaler()\n",
    "sc.fit(x_p)\n",
    "x=sc.transform(x_p)\n",
    "x=pd.DataFrame(x,columns=x_p.columns)\n",
    "#scaling the columns of x_ap"
   ]
  },
  {
   "cell_type": "code",
   "execution_count": 299,
   "metadata": {},
   "outputs": [],
   "source": [
    "from sklearn.model_selection import train_test_split\n",
    "\n",
    "X_train,X_test,Y_train,Y_test=train_test_split(x,y,random_state = 42,test_size=0.20)\n"
   ]
  },
  {
   "cell_type": "code",
   "execution_count": 300,
   "metadata": {},
   "outputs": [],
   "source": [
    "from sklearn.linear_model import LinearRegression,Lasso,Ridge,ElasticNet\n",
    "from sklearn.svm import SVR\n",
    "from sklearn.neighbors import KNeighborsRegressor\n",
    "from sklearn.tree import DecisionTreeRegressor\n",
    "from sklearn.metrics import r2_score\n",
    "from sklearn.metrics import mean_absolute_error\n",
    "from sklearn.metrics import mean_squared_error\n",
    "from sklearn.model_selection import train_test_split\n",
    "from sklearn.ensemble import AdaBoostRegressor\n",
    "from sklearn.ensemble import GradientBoostingRegressor\n",
    "from sklearn.model_selection import cross_val_score\n"
   ]
  },
  {
   "cell_type": "code",
   "execution_count": 301,
   "metadata": {},
   "outputs": [
    {
     "name": "stdout",
     "output_type": "stream",
     "text": [
      "score of  LinearRegression() is: 0.6650300931366357\n",
      "ERROR:\n",
      " Mean absolute error: 206.84243402788357\n",
      "Mean squared error: 115720.76092444744\n",
      "r2 score : 0.6784640123302023\n",
      "\n",
      "\n",
      "score of  DecisionTreeRegressor() is: 0.9916716847934107\n",
      "ERROR:\n",
      " Mean absolute error: 255.48611384190806\n",
      "Mean squared error: 235747.78553565513\n",
      "r2 score : 0.3449628531853134\n",
      "\n",
      "\n",
      "score of  KNeighborsRegressor() is: 0.777340787186902\n",
      "ERROR:\n",
      " Mean absolute error: 199.74893617021277\n",
      "Mean squared error: 114748.88302600473\n",
      "r2 score : 0.6811644242310041\n",
      "\n",
      "\n",
      "score of  SVR() is: 0.1956471746227989\n",
      "ERROR:\n",
      " Mean absolute error: 270.7669824478087\n",
      "Mean squared error: 281343.57886766107\n",
      "r2 score : 0.21827263506476124\n",
      "\n",
      "\n",
      "score of  Lasso() is: 0.6649743037160334\n",
      "ERROR:\n",
      " Mean absolute error: 206.69398636922034\n",
      "Mean squared error: 115698.8817466383\n",
      "r2 score : 0.6785248047324477\n",
      "\n",
      "\n",
      "score of  Ridge() is: 0.665030085642532\n",
      "ERROR:\n",
      " Mean absolute error: 206.8457801858734\n",
      "Mean squared error: 115719.05276190511\n",
      "r2 score : 0.6784687585462292\n",
      "\n",
      "\n",
      "score of  ElasticNet() is: 0.6149104186321632\n",
      "ERROR:\n",
      " Mean absolute error: 220.83443554381535\n",
      "Mean squared error: 131243.82721574898\n",
      "r2 score : 0.6353323874448794\n",
      "\n",
      "\n",
      "score of  AdaBoostRegressor() is: -0.016900488512069822\n",
      "ERROR:\n",
      " Mean absolute error: 581.2080391802976\n",
      "Mean squared error: 424584.8154945207\n",
      "r2 score : -0.1797303863976596\n",
      "\n",
      "\n"
     ]
    }
   ],
   "source": [
    "model=[LinearRegression(),DecisionTreeRegressor(),KNeighborsRegressor(),SVR(),Lasso(),Ridge(),ElasticNet(),AdaBoostRegressor()]\n",
    "for m in model:\n",
    "    m.fit(X_train,Y_train)\n",
    "    print(\"score of \",m, \"is:\",m.score(X_train,Y_train))\n",
    "    predm=m.predict(X_test)\n",
    "    print(\"ERROR:\")\n",
    "    print(\" Mean absolute error:\", mean_absolute_error(Y_test,predm))\n",
    "    print(\"Mean squared error:\",mean_squared_error(Y_test,predm))\n",
    "    print(\"r2 score :\",r2_score(Y_test,predm))\n",
    "    print(\"\\n\")"
   ]
  },
  {
   "cell_type": "code",
   "execution_count": 302,
   "metadata": {
    "scrolled": true
   },
   "outputs": [
    {
     "name": "stdout",
     "output_type": "stream",
     "text": [
      "Cross val score of : LinearRegression() 0.6650459732487615\n",
      "Cross val score of : DecisionTreeRegressor() 0.40239743204684614\n",
      "Cross val score of : KNeighborsRegressor() 0.666787266709799\n",
      "Cross val score of : SVR() 0.19709370028797757\n",
      "Cross val score of : Lasso() 0.6650312449947209\n",
      "Cross val score of : Ridge() 0.6650469564356433\n",
      "Cross val score of : ElasticNet() 0.616832275730092\n",
      "Cross val score of : AdaBoostRegressor() -0.18064906815844264\n"
     ]
    }
   ],
   "source": [
    "model=[LinearRegression(),DecisionTreeRegressor(),KNeighborsRegressor(),SVR(),Lasso(),Ridge(),ElasticNet(),AdaBoostRegressor()]\n",
    "for m in model:\n",
    "    print(\"Cross val score of :\",m,cross_val_score(m,x,y,cv=5,scoring=\"r2\").mean())\n",
    "\n"
   ]
  },
  {
   "cell_type": "code",
   "execution_count": 342,
   "metadata": {},
   "outputs": [
    {
     "name": "stdout",
     "output_type": "stream",
     "text": [
      "Best Hyper Parameters:\n",
      " {'leaf_size': 2, 'n_jobs': -1, 'n_neighbors': 10, 'weights': 'uniform'}\n"
     ]
    }
   ],
   "source": [
    "from sklearn.model_selection import GridSearchCV\n",
    "model=KNeighborsRegressor()\n",
    "params = {'n_neighbors':[5,6,7,8,9,10],\n",
    "          'leaf_size':[1,2,3,5],\n",
    "          'weights':['uniform', 'distance'],\n",
    "          'n_jobs':[-1]\n",
    "         }\n",
    "model1 = GridSearchCV(model, param_grid=params, n_jobs=1)\n",
    "model1.fit(x,y)\n",
    "print(\"Best Hyper Parameters:\\n\",model1.best_params_)"
   ]
  },
  {
   "cell_type": "code",
   "execution_count": 347,
   "metadata": {},
   "outputs": [
    {
     "name": "stdout",
     "output_type": "stream",
     "text": [
      " Mean absolute error: 191.37785657998424\n",
      "Mean squared error: 107327.72815602834\n",
      "r2 score : 0.7017844784175323\n",
      "score of  KNeighborsRegressor(leaf_size=2, n_jobs=-1, n_neighbors=10) is: 0.7395119853535438\n",
      "\n",
      "\n"
     ]
    }
   ],
   "source": [
    "knn=KNeighborsRegressor(leaf_size= 2, n_jobs= -1, n_neighbors= 10, weights= 'uniform')\n",
    "knn.fit(X_train,Y_train)\n",
    "ypred_knn=knn.predict(X_test)\n",
    "print(\" Mean absolute error:\", mean_absolute_error(Y_test,ypred_knn))\n",
    "print(\"Mean squared error:\",mean_squared_error(Y_test,ypred_knn))\n",
    "print(\"r2 score :\",r2_score(Y_test,ypred_knn))\n",
    "print(\"score of \",knn, \"is:\",knn.score(X_train,Y_train))\n",
    "print(\"\\n\")"
   ]
  },
  {
   "cell_type": "code",
   "execution_count": 303,
   "metadata": {},
   "outputs": [
    {
     "data": {
      "text/plain": [
       "{'alpha': 1, 'random_state': 42}"
      ]
     },
     "execution_count": 303,
     "metadata": {},
     "output_type": "execute_result"
    }
   ],
   "source": [
    "from sklearn.model_selection import GridSearchCV\n",
    "ridge=Ridge()\n",
    "param={'alpha':[0.001,0.01,0.1,1],'random_state':(42,100)}\n",
    "cv=GridSearchCV(ridge,param)\n",
    "cv.fit(x,y)\n",
    "cv.best_params_"
   ]
  },
  {
   "cell_type": "code",
   "execution_count": 304,
   "metadata": {
    "scrolled": true
   },
   "outputs": [
    {
     "name": "stdout",
     "output_type": "stream",
     "text": [
      " Mean absolute error: 206.8457801858734\n",
      "Mean squared error: 115719.05276190511\n",
      "r2 score : 0.6784687585462292\n",
      "\n",
      "\n"
     ]
    }
   ],
   "source": [
    "model=Ridge(alpha=1,random_state=42)\n",
    "model.fit(X_train,Y_train)\n",
    "ypred=model.predict(X_test)\n",
    "print(\" Mean absolute error:\", mean_absolute_error(Y_test,ypred))\n",
    "print(\"Mean squared error:\",mean_squared_error(Y_test,ypred))\n",
    "print(\"r2 score :\",r2_score(Y_test,ypred))\n",
    "print(\"\\n\")"
   ]
  },
  {
   "cell_type": "code",
   "execution_count": 305,
   "metadata": {},
   "outputs": [
    {
     "data": {
      "text/plain": [
       "{'alpha': 0.1, 'random_state': 42}"
      ]
     },
     "execution_count": 305,
     "metadata": {},
     "output_type": "execute_result"
    }
   ],
   "source": [
    "from sklearn.model_selection import GridSearchCV\n",
    "lasso=Lasso()\n",
    "param={'alpha':[0.001,0.01,0.1,1],'random_state':(42,100)}\n",
    "cvl=GridSearchCV(lasso,param)\n",
    "cvl.fit(x,y)\n",
    "cvl.best_params_"
   ]
  },
  {
   "cell_type": "code",
   "execution_count": 340,
   "metadata": {
    "scrolled": true
   },
   "outputs": [
    {
     "name": "stdout",
     "output_type": "stream",
     "text": [
      " Mean absolute error: 206.69398636922034\n",
      "Mean squared error: 115698.8817466383\n",
      "r2 score : 0.6785248047324477\n",
      "\n",
      "\n"
     ]
    }
   ],
   "source": [
    "model=Lasso(alpha=1,random_state=42)\n",
    "model.fit(X_train,Y_train)\n",
    "ypredl=model.predict(X_test)\n",
    "print(\" Mean absolute error:\", mean_absolute_error(Y_test,ypred_new))\n",
    "print(\"Mean squared error:\",mean_squared_error(Y_test,ypred_new))\n",
    "print(\"r2 score :\",r2_score(Y_test,ypred_new))\n",
    "print(\"\\n\")"
   ]
  },
  {
   "cell_type": "code",
   "execution_count": 350,
   "metadata": {},
   "outputs": [
    {
     "name": "stdout",
     "output_type": "stream",
     "text": [
      " Mean absolute error: 207.6748620961387\n",
      "Mean squared error: 125725.2125137904\n",
      "r2 score : 0.6506661375394007\n",
      "score of  AdaBoostRegressor(base_estimator=KNeighborsRegressor(), learning_rate=1,\n",
      "                  n_estimators=6, random_state=42) is: 0.856842838760485\n",
      "Cross val score: 0.6147811284830883\n",
      "\n",
      "\n"
     ]
    }
   ],
   "source": [
    "KNN=KNeighborsRegressor()\n",
    "adb=AdaBoostRegressor(base_estimator=KNN,n_estimators=6,learning_rate=1,random_state=42)\n",
    "adb.fit(X_train,Y_train)\n",
    "predab=adb.predict(X_test)\n",
    "print(\" Mean absolute error:\", mean_absolute_error(Y_test,predab))\n",
    "print(\"Mean squared error:\",mean_squared_error(Y_test,predab))\n",
    "print(\"r2 score :\",r2_score(Y_test,predab))\n",
    "print(\"score of \",adb, \"is:\",adb.score(X_train,Y_train))\n",
    "print(\"Cross val score:\",cross_val_score(adb,x,y,cv=5,scoring=\"r2\").mean())\n",
    "\n",
    "print(\"\\n\")\n"
   ]
  },
  {
   "cell_type": "code",
   "execution_count": 308,
   "metadata": {},
   "outputs": [
    {
     "name": "stdout",
     "output_type": "stream",
     "text": [
      " Mean absolute error: 248.05192573996996\n",
      "Mean squared error: 187717.68914218782\n",
      "r2 score : 0.4784169054951827\n",
      "score of  AdaBoostRegressor(base_estimator=Lasso(), learning_rate=1, n_estimators=6,\n",
      "                  random_state=42) is: 0.5127790280428663\n",
      "Cross val score: 0.4720800082121621\n",
      "\n",
      "\n"
     ]
    }
   ],
   "source": [
    "l=Lasso()\n",
    "adb=AdaBoostRegressor(base_estimator=l,n_estimators=6,learning_rate=1,random_state=42)\n",
    "adb.fit(X_train,Y_train)\n",
    "predab=adb.predict(X_test)\n",
    "print(\" Mean absolute error:\", mean_absolute_error(Y_test,predab))\n",
    "print(\"Mean squared error:\",mean_squared_error(Y_test,predab))\n",
    "print(\"r2 score :\",r2_score(Y_test,predab))\n",
    "print(\"score of \",adb, \"is:\",adb.score(X_train,Y_train))\n",
    "print(\"Cross val score:\",cross_val_score(adb,x,y,cv=5,scoring=\"r2\").mean())\n",
    "\n",
    "print(\"\\n\")\n"
   ]
  },
  {
   "cell_type": "code",
   "execution_count": 349,
   "metadata": {},
   "outputs": [
    {
     "data": {
      "text/plain": [
       "Text(0.5, 0, 'Original value')"
      ]
     },
     "execution_count": 349,
     "metadata": {},
     "output_type": "execute_result"
    },
    {
     "data": {
      "image/png": "[encoded data removed]",
      "text/plain": [
       "<Figure size 432x288 with 1 Axes>"
      ]
     },
     "metadata": {
      "needs_background": "light"
     },
     "output_type": "display_data"
    }
   ],
   "source": [
    "plt.scatter(x=Y_test,y=ypred_knn)\n",
    "plt.xlabel(\"Original value\")"
   ]
  },
  {
   "cell_type": "code",
   "execution_count": 232,
   "metadata": {
    "scrolled": true
   },
   "outputs": [
    {
     "data": {
      "text/html": [
       "<div>\n",
       "<style scoped>\n",
       "    .dataframe tbody tr th:only-of-type {\n",
       "        vertical-align: middle;\n",
       "    }\n",
       "\n",
       "    .dataframe tbody tr th {\n",
       "        vertical-align: top;\n",
       "    }\n",
       "\n",
       "    .dataframe thead th {\n",
       "        text-align: right;\n",
       "    }\n",
       "</style>\n",
       "<table border=\"1\" class=\"dataframe\">\n",
       "  <thead>\n",
       "    <tr style=\"text-align: right;\">\n",
       "      <th></th>\n",
       "      <th>0</th>\n",
       "    </tr>\n",
       "  </thead>\n",
       "  <tbody>\n",
       "    <tr>\n",
       "      <th>0</th>\n",
       "      <td>458.122467</td>\n",
       "    </tr>\n",
       "    <tr>\n",
       "      <th>1</th>\n",
       "      <td>455.415608</td>\n",
       "    </tr>\n",
       "    <tr>\n",
       "      <th>2</th>\n",
       "      <td>618.969290</td>\n",
       "    </tr>\n",
       "    <tr>\n",
       "      <th>3</th>\n",
       "      <td>831.539207</td>\n",
       "    </tr>\n",
       "    <tr>\n",
       "      <th>4</th>\n",
       "      <td>435.140269</td>\n",
       "    </tr>\n",
       "    <tr>\n",
       "      <th>...</th>\n",
       "      <td>...</td>\n",
       "    </tr>\n",
       "    <tr>\n",
       "      <th>2533</th>\n",
       "      <td>802.189132</td>\n",
       "    </tr>\n",
       "    <tr>\n",
       "      <th>2534</th>\n",
       "      <td>547.864900</td>\n",
       "    </tr>\n",
       "    <tr>\n",
       "      <th>2535</th>\n",
       "      <td>384.638572</td>\n",
       "    </tr>\n",
       "    <tr>\n",
       "      <th>2536</th>\n",
       "      <td>120.162607</td>\n",
       "    </tr>\n",
       "    <tr>\n",
       "      <th>2537</th>\n",
       "      <td>521.649649</td>\n",
       "    </tr>\n",
       "  </tbody>\n",
       "</table>\n",
       "<p>2538 rows × 1 columns</p>\n",
       "</div>"
      ],
      "text/plain": [
       "               0\n",
       "0     458.122467\n",
       "1     455.415608\n",
       "2     618.969290\n",
       "3     831.539207\n",
       "4     435.140269\n",
       "...          ...\n",
       "2533  802.189132\n",
       "2534  547.864900\n",
       "2535  384.638572\n",
       "2536  120.162607\n",
       "2537  521.649649\n",
       "\n",
       "[2538 rows x 1 columns]"
      ]
     },
     "execution_count": 232,
     "metadata": {},
     "output_type": "execute_result"
    }
   ],
   "source": [
    "df_cost=pd.DataFrame(ypred_new)\n",
    "df_cost"
   ]
  },
  {
   "cell_type": "code",
   "execution_count": null,
   "metadata": {},
   "outputs": [],
   "source": [
    "Using TEST to predict performining similiar eda as on train dataset"
   ]
  },
  {
   "cell_type": "code",
   "execution_count": 310,
   "metadata": {},
   "outputs": [],
   "source": [
    "test = pd.read_excel('Data_Test.xlsx')"
   ]
  },
  {
   "cell_type": "code",
   "execution_count": 311,
   "metadata": {},
   "outputs": [
    {
     "data": {
      "text/html": [
       "<div>\n",
       "<style scoped>\n",
       "    .dataframe tbody tr th:only-of-type {\n",
       "        vertical-align: middle;\n",
       "    }\n",
       "\n",
       "    .dataframe tbody tr th {\n",
       "        vertical-align: top;\n",
       "    }\n",
       "\n",
       "    .dataframe thead th {\n",
       "        text-align: right;\n",
       "    }\n",
       "</style>\n",
       "<table border=\"1\" class=\"dataframe\">\n",
       "  <thead>\n",
       "    <tr style=\"text-align: right;\">\n",
       "      <th></th>\n",
       "      <th>TITLE</th>\n",
       "      <th>RESTAURANT_ID</th>\n",
       "      <th>CUISINES</th>\n",
       "      <th>TIME</th>\n",
       "      <th>CITY</th>\n",
       "      <th>LOCALITY</th>\n",
       "      <th>RATING</th>\n",
       "      <th>VOTES</th>\n",
       "    </tr>\n",
       "  </thead>\n",
       "  <tbody>\n",
       "    <tr>\n",
       "      <th>0</th>\n",
       "      <td>CASUAL DINING</td>\n",
       "      <td>4085</td>\n",
       "      <td>North Indian, Chinese, Mughlai, Kebab</td>\n",
       "      <td>12noon – 12midnight (Mon-Sun)</td>\n",
       "      <td>Noida</td>\n",
       "      <td>Sector 18</td>\n",
       "      <td>4.3</td>\n",
       "      <td>564 votes</td>\n",
       "    </tr>\n",
       "    <tr>\n",
       "      <th>1</th>\n",
       "      <td>QUICK BITES</td>\n",
       "      <td>12680</td>\n",
       "      <td>South Indian, Fast Food, Pizza, North Indian</td>\n",
       "      <td>7am – 12:30AM (Mon-Sun)</td>\n",
       "      <td>Mumbai</td>\n",
       "      <td>Grant Road</td>\n",
       "      <td>4.2</td>\n",
       "      <td>61 votes</td>\n",
       "    </tr>\n",
       "    <tr>\n",
       "      <th>2</th>\n",
       "      <td>CASUAL DINING</td>\n",
       "      <td>1411</td>\n",
       "      <td>North Indian, Seafood, Biryani, Chinese</td>\n",
       "      <td>11am – 11:30pm (Mon-Sun)</td>\n",
       "      <td>Mumbai</td>\n",
       "      <td>Marine Lines</td>\n",
       "      <td>3.8</td>\n",
       "      <td>350 votes</td>\n",
       "    </tr>\n",
       "    <tr>\n",
       "      <th>3</th>\n",
       "      <td>None</td>\n",
       "      <td>204</td>\n",
       "      <td>Biryani</td>\n",
       "      <td>9am – 10pm (Mon, Wed, Thu, Fri, Sat, Sun), 10:...</td>\n",
       "      <td>Faridabad</td>\n",
       "      <td>NIT</td>\n",
       "      <td>3.8</td>\n",
       "      <td>1445 votes</td>\n",
       "    </tr>\n",
       "    <tr>\n",
       "      <th>4</th>\n",
       "      <td>QUICK BITES</td>\n",
       "      <td>13453</td>\n",
       "      <td>South Indian, Kerala</td>\n",
       "      <td>11am – 10pm (Mon-Sun)</td>\n",
       "      <td>Kochi</td>\n",
       "      <td>Kaloor</td>\n",
       "      <td>3.6</td>\n",
       "      <td>23 votes</td>\n",
       "    </tr>\n",
       "  </tbody>\n",
       "</table>\n",
       "</div>"
      ],
      "text/plain": [
       "           TITLE  RESTAURANT_ID                                      CUISINES  \\\n",
       "0  CASUAL DINING           4085         North Indian, Chinese, Mughlai, Kebab   \n",
       "1    QUICK BITES          12680  South Indian, Fast Food, Pizza, North Indian   \n",
       "2  CASUAL DINING           1411       North Indian, Seafood, Biryani, Chinese   \n",
       "3           None            204                                       Biryani   \n",
       "4    QUICK BITES          13453                          South Indian, Kerala   \n",
       "\n",
       "                                                TIME       CITY      LOCALITY  \\\n",
       "0                      12noon – 12midnight (Mon-Sun)      Noida     Sector 18   \n",
       "1                            7am – 12:30AM (Mon-Sun)     Mumbai    Grant Road   \n",
       "2                           11am – 11:30pm (Mon-Sun)     Mumbai  Marine Lines   \n",
       "3  9am – 10pm (Mon, Wed, Thu, Fri, Sat, Sun), 10:...  Faridabad           NIT   \n",
       "4                              11am – 10pm (Mon-Sun)      Kochi        Kaloor   \n",
       "\n",
       "  RATING       VOTES  \n",
       "0    4.3   564 votes  \n",
       "1    4.2    61 votes  \n",
       "2    3.8   350 votes  \n",
       "3    3.8  1445 votes  \n",
       "4    3.6    23 votes  "
      ]
     },
     "execution_count": 311,
     "metadata": {},
     "output_type": "execute_result"
    }
   ],
   "source": [
    "test.head()"
   ]
  },
  {
   "cell_type": "code",
   "execution_count": 312,
   "metadata": {},
   "outputs": [
    {
     "data": {
      "text/plain": [
       "TITLE              0\n",
       "RESTAURANT_ID      0\n",
       "CUISINES           0\n",
       "TIME               0\n",
       "CITY              35\n",
       "LOCALITY          30\n",
       "RATING             2\n",
       "VOTES            402\n",
       "dtype: int64"
      ]
     },
     "execution_count": 312,
     "metadata": {},
     "output_type": "execute_result"
    }
   ],
   "source": [
    "test.isnull().sum()"
   ]
  },
  {
   "cell_type": "code",
   "execution_count": 313,
   "metadata": {},
   "outputs": [],
   "source": [
    "test[\"VOTES\"] = test['VOTES'].str.split(\" \").str[0]\n",
    "test[\"VOTES\"]= pd.to_numeric(test[\"VOTES\"])\n",
    "test[\"RATING\"]=pd.to_numeric(test[\"RATING\"], errors='coerce')"
   ]
  },
  {
   "cell_type": "code",
   "execution_count": 314,
   "metadata": {},
   "outputs": [],
   "source": [
    "columns=[\"CITY\",\"LOCALITY\"]\n",
    "for i in columns:\n",
    "    test[i].fillna(test[i].mode()[0], inplace=True)"
   ]
  },
  {
   "cell_type": "code",
   "execution_count": 315,
   "metadata": {},
   "outputs": [],
   "source": [
    "test[\"VOTES\"]=test[\"VOTES\"].fillna(test[\"VOTES\"].median())\n",
    "test[\"RATING\"]=test[\"RATING\"].fillna(test[\"RATING\"].median())"
   ]
  },
  {
   "cell_type": "code",
   "execution_count": 316,
   "metadata": {},
   "outputs": [],
   "source": [
    "test['Location']=test['CITY']+' '+test['LOCALITY']\n",
    "test.drop(columns=['CITY','LOCALITY'],inplace=True)"
   ]
  },
  {
   "cell_type": "code",
   "execution_count": 317,
   "metadata": {},
   "outputs": [
    {
     "name": "stdout",
     "output_type": "stream",
     "text": [
      "4231\n"
     ]
    }
   ],
   "source": [
    "from fuzzywuzzy import process\n",
    " \n",
    "names_array=[]\n",
    "def match_names(wrong_names,correct_names):\n",
    "    for row in wrong_names:\n",
    "        x=process.extractOne(row, correct_names)\n",
    "        if x[1]<60:\n",
    "            names_array.append('Others')\n",
    "        else:\n",
    "            names_array.append(x[0])\n",
    "    return names_array\n",
    "\n",
    "\n",
    "correct_names=['Bangalore','Thane',\n",
    "'Hyderabad','Andheri',\n",
    "'Delhi', 'Kerala',\n",
    "'Chennai',\n",
    "'Mumbai', 'Telangana',\n",
    "'Kochi', \n",
    "'Noida', \n",
    "'Gurgaon', 'Ernakulam',\n",
    "'Faridabad', 'Ghaziabad',\n",
    "'Secunderabad' ]\n",
    "name_match=match_names(test.Location,correct_names)\n",
    "\n",
    "print(len(names_array))\n",
    "test['Location']=names_array"
   ]
  },
  {
   "cell_type": "code",
   "execution_count": 319,
   "metadata": {},
   "outputs": [],
   "source": [
    "title_list=[]\n",
    "for row in test['TITLE']:\n",
    "    title_list.append(list(row.split(',')))\n",
    "test['TITLE']=title_list"
   ]
  },
  {
   "cell_type": "code",
   "execution_count": 320,
   "metadata": {},
   "outputs": [],
   "source": [
    "test_title=test['TITLE'].apply(lambda x: pd.Series(1, x))\n",
    "test_title.replace(to_replace =np.NaN, \n",
    "                 value =0,inplace=True)"
   ]
  },
  {
   "cell_type": "code",
   "execution_count": 321,
   "metadata": {},
   "outputs": [],
   "source": [
    "test['count'] = test['CUISINES'].str.split(\",\").str.len()\n"
   ]
  },
  {
   "cell_type": "code",
   "execution_count": 322,
   "metadata": {},
   "outputs": [],
   "source": [
    "test_new = pd.concat([test,test_title], axis=1)\n",
    "test_new.drop(columns=[\"TITLE\",\"CUISINES\",\"TIME\",\"RESTAURANT_ID\"],axis=1,inplace=True)"
   ]
  },
  {
   "cell_type": "code",
   "execution_count": 323,
   "metadata": {},
   "outputs": [],
   "source": [
    "from sklearn.preprocessing import LabelEncoder\n",
    "labelencoder=LabelEncoder()\n",
    "test_new[\"Location\"] = labelencoder.fit_transform(test_new[\"Location\"])"
   ]
  },
  {
   "cell_type": "code",
   "execution_count": 334,
   "metadata": {},
   "outputs": [],
   "source": [
    "from sklearn.preprocessing import StandardScaler\n",
    "sc=StandardScaler()\n",
    "sc.fit(test_new)\n",
    "X=sc.transform(test_new)\n",
    "X=pd.DataFrame(X,columns=test_new.columns)"
   ]
  },
  {
   "cell_type": "code",
   "execution_count": 325,
   "metadata": {},
   "outputs": [
    {
     "data": {
      "text/plain": [
       "(10152, 28)"
      ]
     },
     "execution_count": 325,
     "metadata": {},
     "output_type": "execute_result"
    }
   ],
   "source": [
    "X_train.shape"
   ]
  },
  {
   "cell_type": "code",
   "execution_count": 326,
   "metadata": {},
   "outputs": [
    {
     "data": {
      "text/html": [
       "<div>\n",
       "<style scoped>\n",
       "    .dataframe tbody tr th:only-of-type {\n",
       "        vertical-align: middle;\n",
       "    }\n",
       "\n",
       "    .dataframe tbody tr th {\n",
       "        vertical-align: top;\n",
       "    }\n",
       "\n",
       "    .dataframe thead th {\n",
       "        text-align: right;\n",
       "    }\n",
       "</style>\n",
       "<table border=\"1\" class=\"dataframe\">\n",
       "  <thead>\n",
       "    <tr style=\"text-align: right;\">\n",
       "      <th></th>\n",
       "      <th>RATING</th>\n",
       "      <th>VOTES</th>\n",
       "      <th>Location</th>\n",
       "      <th>count</th>\n",
       "      <th>CASUAL DINING</th>\n",
       "      <th>QUICK BITES</th>\n",
       "      <th>None</th>\n",
       "      <th>FOOD TRUCK</th>\n",
       "      <th>DESSERT PARLOR</th>\n",
       "      <th>BAR</th>\n",
       "      <th>...</th>\n",
       "      <th>FOOD COURT</th>\n",
       "      <th>KIOSK</th>\n",
       "      <th>MESS</th>\n",
       "      <th>MICROBREWERY</th>\n",
       "      <th>CLUB</th>\n",
       "      <th>COCKTAIL BAR</th>\n",
       "      <th>MEAT SHOP</th>\n",
       "      <th>CONFECTIONERY</th>\n",
       "      <th>PAAN SHOP</th>\n",
       "      <th>BHOJANALYA</th>\n",
       "    </tr>\n",
       "  </thead>\n",
       "  <tbody>\n",
       "    <tr>\n",
       "      <th>0</th>\n",
       "      <td>4.3</td>\n",
       "      <td>564.0</td>\n",
       "      <td>12</td>\n",
       "      <td>4</td>\n",
       "      <td>1.0</td>\n",
       "      <td>0.0</td>\n",
       "      <td>0.0</td>\n",
       "      <td>0.0</td>\n",
       "      <td>0.0</td>\n",
       "      <td>0.0</td>\n",
       "      <td>...</td>\n",
       "      <td>0.0</td>\n",
       "      <td>0.0</td>\n",
       "      <td>0.0</td>\n",
       "      <td>0.0</td>\n",
       "      <td>0.0</td>\n",
       "      <td>0.0</td>\n",
       "      <td>0.0</td>\n",
       "      <td>0.0</td>\n",
       "      <td>0.0</td>\n",
       "      <td>0.0</td>\n",
       "    </tr>\n",
       "    <tr>\n",
       "      <th>1</th>\n",
       "      <td>4.2</td>\n",
       "      <td>61.0</td>\n",
       "      <td>11</td>\n",
       "      <td>4</td>\n",
       "      <td>0.0</td>\n",
       "      <td>1.0</td>\n",
       "      <td>0.0</td>\n",
       "      <td>0.0</td>\n",
       "      <td>0.0</td>\n",
       "      <td>0.0</td>\n",
       "      <td>...</td>\n",
       "      <td>0.0</td>\n",
       "      <td>0.0</td>\n",
       "      <td>0.0</td>\n",
       "      <td>0.0</td>\n",
       "      <td>0.0</td>\n",
       "      <td>0.0</td>\n",
       "      <td>0.0</td>\n",
       "      <td>0.0</td>\n",
       "      <td>0.0</td>\n",
       "      <td>0.0</td>\n",
       "    </tr>\n",
       "    <tr>\n",
       "      <th>2</th>\n",
       "      <td>3.8</td>\n",
       "      <td>350.0</td>\n",
       "      <td>11</td>\n",
       "      <td>4</td>\n",
       "      <td>1.0</td>\n",
       "      <td>0.0</td>\n",
       "      <td>0.0</td>\n",
       "      <td>0.0</td>\n",
       "      <td>0.0</td>\n",
       "      <td>0.0</td>\n",
       "      <td>...</td>\n",
       "      <td>0.0</td>\n",
       "      <td>0.0</td>\n",
       "      <td>0.0</td>\n",
       "      <td>0.0</td>\n",
       "      <td>0.0</td>\n",
       "      <td>0.0</td>\n",
       "      <td>0.0</td>\n",
       "      <td>0.0</td>\n",
       "      <td>0.0</td>\n",
       "      <td>0.0</td>\n",
       "    </tr>\n",
       "    <tr>\n",
       "      <th>3</th>\n",
       "      <td>3.8</td>\n",
       "      <td>1445.0</td>\n",
       "      <td>5</td>\n",
       "      <td>1</td>\n",
       "      <td>0.0</td>\n",
       "      <td>0.0</td>\n",
       "      <td>1.0</td>\n",
       "      <td>0.0</td>\n",
       "      <td>0.0</td>\n",
       "      <td>0.0</td>\n",
       "      <td>...</td>\n",
       "      <td>0.0</td>\n",
       "      <td>0.0</td>\n",
       "      <td>0.0</td>\n",
       "      <td>0.0</td>\n",
       "      <td>0.0</td>\n",
       "      <td>0.0</td>\n",
       "      <td>0.0</td>\n",
       "      <td>0.0</td>\n",
       "      <td>0.0</td>\n",
       "      <td>0.0</td>\n",
       "    </tr>\n",
       "    <tr>\n",
       "      <th>4</th>\n",
       "      <td>3.6</td>\n",
       "      <td>23.0</td>\n",
       "      <td>10</td>\n",
       "      <td>2</td>\n",
       "      <td>0.0</td>\n",
       "      <td>1.0</td>\n",
       "      <td>0.0</td>\n",
       "      <td>0.0</td>\n",
       "      <td>0.0</td>\n",
       "      <td>0.0</td>\n",
       "      <td>...</td>\n",
       "      <td>0.0</td>\n",
       "      <td>0.0</td>\n",
       "      <td>0.0</td>\n",
       "      <td>0.0</td>\n",
       "      <td>0.0</td>\n",
       "      <td>0.0</td>\n",
       "      <td>0.0</td>\n",
       "      <td>0.0</td>\n",
       "      <td>0.0</td>\n",
       "      <td>0.0</td>\n",
       "    </tr>\n",
       "  </tbody>\n",
       "</table>\n",
       "<p>5 rows × 29 columns</p>\n",
       "</div>"
      ],
      "text/plain": [
       "   RATING   VOTES  Location  count  CASUAL DINING  QUICK BITES  None  \\\n",
       "0     4.3   564.0        12      4            1.0          0.0   0.0   \n",
       "1     4.2    61.0        11      4            0.0          1.0   0.0   \n",
       "2     3.8   350.0        11      4            1.0          0.0   0.0   \n",
       "3     3.8  1445.0         5      1            0.0          0.0   1.0   \n",
       "4     3.6    23.0        10      2            0.0          1.0   0.0   \n",
       "\n",
       "   FOOD TRUCK  DESSERT PARLOR  BAR  ...  FOOD COURT  KIOSK  MESS  \\\n",
       "0         0.0             0.0  0.0  ...         0.0    0.0   0.0   \n",
       "1         0.0             0.0  0.0  ...         0.0    0.0   0.0   \n",
       "2         0.0             0.0  0.0  ...         0.0    0.0   0.0   \n",
       "3         0.0             0.0  0.0  ...         0.0    0.0   0.0   \n",
       "4         0.0             0.0  0.0  ...         0.0    0.0   0.0   \n",
       "\n",
       "   MICROBREWERY  CLUB  COCKTAIL BAR  MEAT SHOP  CONFECTIONERY  PAAN SHOP  \\\n",
       "0           0.0   0.0           0.0        0.0            0.0        0.0   \n",
       "1           0.0   0.0           0.0        0.0            0.0        0.0   \n",
       "2           0.0   0.0           0.0        0.0            0.0        0.0   \n",
       "3           0.0   0.0           0.0        0.0            0.0        0.0   \n",
       "4           0.0   0.0           0.0        0.0            0.0        0.0   \n",
       "\n",
       "   BHOJANALYA  \n",
       "0         0.0  \n",
       "1         0.0  \n",
       "2         0.0  \n",
       "3         0.0  \n",
       "4         0.0  \n",
       "\n",
       "[5 rows x 29 columns]"
      ]
     },
     "execution_count": 326,
     "metadata": {},
     "output_type": "execute_result"
    }
   ],
   "source": [
    "test_new.head()"
   ]
  },
  {
   "cell_type": "code",
   "execution_count": 327,
   "metadata": {
    "scrolled": false
   },
   "outputs": [
    {
     "data": {
      "text/plain": [
       "Index(['RATING', 'VOTES', 'COST', 'Location', 'count', 'CASUAL DINING', 'BAR',\n",
       "       'QUICK BITES', 'DESSERT PARLOR', 'CAFÉ', 'MICROBREWERY',\n",
       "       'BEVERAGE SHOP', 'IRANI CAFE', 'BAKERY', 'None', 'PUB', 'FINE DINING',\n",
       "       'SWEET SHOP', 'LOUNGE', 'FOOD COURT', 'FOOD TRUCK', 'MESS', 'KIOSK',\n",
       "       'CLUB', 'CONFECTIONERY', 'DHABA', 'MEAT SHOP', 'COCKTAIL BAR',\n",
       "       'PAAN SHOP'],\n",
       "      dtype='object')"
      ]
     },
     "execution_count": 327,
     "metadata": {},
     "output_type": "execute_result"
    }
   ],
   "source": [
    "df_new.columns"
   ]
  },
  {
   "cell_type": "code",
   "execution_count": 328,
   "metadata": {},
   "outputs": [
    {
     "data": {
      "text/plain": [
       "Index(['RATING', 'VOTES', 'Location', 'count', 'CASUAL DINING', 'QUICK BITES',\n",
       "       'None', 'FOOD TRUCK', 'DESSERT PARLOR', 'BAR', 'LOUNGE',\n",
       "       'BEVERAGE SHOP', 'PUB', 'CAFÉ', 'BAKERY', 'SWEET SHOP', 'DHABA',\n",
       "       'FINE DINING', 'IRANI CAFE', 'FOOD COURT', 'KIOSK', 'MESS',\n",
       "       'MICROBREWERY', 'CLUB', 'COCKTAIL BAR', 'MEAT SHOP', 'CONFECTIONERY',\n",
       "       'PAAN SHOP', 'BHOJANALYA'],\n",
       "      dtype='object')"
      ]
     },
     "execution_count": 328,
     "metadata": {},
     "output_type": "execute_result"
    }
   ],
   "source": [
    "test_new.columns"
   ]
  },
  {
   "cell_type": "code",
   "execution_count": 331,
   "metadata": {},
   "outputs": [],
   "source": [
    "test_new.drop(\"BHOJANALYA\",axis=1,inplace=True)"
   ]
  },
  {
   "cell_type": "code",
   "execution_count": 332,
   "metadata": {
    "scrolled": true
   },
   "outputs": [
    {
     "data": {
      "text/html": [
       "<div>\n",
       "<style scoped>\n",
       "    .dataframe tbody tr th:only-of-type {\n",
       "        vertical-align: middle;\n",
       "    }\n",
       "\n",
       "    .dataframe tbody tr th {\n",
       "        vertical-align: top;\n",
       "    }\n",
       "\n",
       "    .dataframe thead th {\n",
       "        text-align: right;\n",
       "    }\n",
       "</style>\n",
       "<table border=\"1\" class=\"dataframe\">\n",
       "  <thead>\n",
       "    <tr style=\"text-align: right;\">\n",
       "      <th></th>\n",
       "      <th>RATING</th>\n",
       "      <th>VOTES</th>\n",
       "      <th>COST</th>\n",
       "      <th>Location</th>\n",
       "      <th>count</th>\n",
       "      <th>CASUAL DINING</th>\n",
       "      <th>BAR</th>\n",
       "      <th>QUICK BITES</th>\n",
       "      <th>DESSERT PARLOR</th>\n",
       "      <th>CAFÉ</th>\n",
       "      <th>...</th>\n",
       "      <th>FOOD COURT</th>\n",
       "      <th>FOOD TRUCK</th>\n",
       "      <th>MESS</th>\n",
       "      <th>KIOSK</th>\n",
       "      <th>CLUB</th>\n",
       "      <th>CONFECTIONERY</th>\n",
       "      <th>DHABA</th>\n",
       "      <th>MEAT SHOP</th>\n",
       "      <th>COCKTAIL BAR</th>\n",
       "      <th>PAAN SHOP</th>\n",
       "    </tr>\n",
       "  </thead>\n",
       "  <tbody>\n",
       "    <tr>\n",
       "      <th>0</th>\n",
       "      <td>3.6</td>\n",
       "      <td>49.0</td>\n",
       "      <td>1200</td>\n",
       "      <td>16</td>\n",
       "      <td>3</td>\n",
       "      <td>1.0</td>\n",
       "      <td>0.0</td>\n",
       "      <td>0.0</td>\n",
       "      <td>0.0</td>\n",
       "      <td>0.0</td>\n",
       "      <td>...</td>\n",
       "      <td>0.0</td>\n",
       "      <td>0.0</td>\n",
       "      <td>0.0</td>\n",
       "      <td>0.0</td>\n",
       "      <td>0.0</td>\n",
       "      <td>0.0</td>\n",
       "      <td>0.0</td>\n",
       "      <td>0.0</td>\n",
       "      <td>0.0</td>\n",
       "      <td>0.0</td>\n",
       "    </tr>\n",
       "    <tr>\n",
       "      <th>1</th>\n",
       "      <td>4.2</td>\n",
       "      <td>30.0</td>\n",
       "      <td>1500</td>\n",
       "      <td>2</td>\n",
       "      <td>3</td>\n",
       "      <td>1.0</td>\n",
       "      <td>1.0</td>\n",
       "      <td>0.0</td>\n",
       "      <td>0.0</td>\n",
       "      <td>0.0</td>\n",
       "      <td>...</td>\n",
       "      <td>0.0</td>\n",
       "      <td>0.0</td>\n",
       "      <td>0.0</td>\n",
       "      <td>0.0</td>\n",
       "      <td>0.0</td>\n",
       "      <td>0.0</td>\n",
       "      <td>0.0</td>\n",
       "      <td>0.0</td>\n",
       "      <td>0.0</td>\n",
       "      <td>0.0</td>\n",
       "    </tr>\n",
       "    <tr>\n",
       "      <th>2</th>\n",
       "      <td>3.8</td>\n",
       "      <td>221.0</td>\n",
       "      <td>800</td>\n",
       "      <td>2</td>\n",
       "      <td>4</td>\n",
       "      <td>1.0</td>\n",
       "      <td>0.0</td>\n",
       "      <td>0.0</td>\n",
       "      <td>0.0</td>\n",
       "      <td>0.0</td>\n",
       "      <td>...</td>\n",
       "      <td>0.0</td>\n",
       "      <td>0.0</td>\n",
       "      <td>0.0</td>\n",
       "      <td>0.0</td>\n",
       "      <td>0.0</td>\n",
       "      <td>0.0</td>\n",
       "      <td>0.0</td>\n",
       "      <td>0.0</td>\n",
       "      <td>0.0</td>\n",
       "      <td>0.0</td>\n",
       "    </tr>\n",
       "    <tr>\n",
       "      <th>3</th>\n",
       "      <td>4.1</td>\n",
       "      <td>24.0</td>\n",
       "      <td>800</td>\n",
       "      <td>11</td>\n",
       "      <td>2</td>\n",
       "      <td>0.0</td>\n",
       "      <td>0.0</td>\n",
       "      <td>1.0</td>\n",
       "      <td>0.0</td>\n",
       "      <td>0.0</td>\n",
       "      <td>...</td>\n",
       "      <td>0.0</td>\n",
       "      <td>0.0</td>\n",
       "      <td>0.0</td>\n",
       "      <td>0.0</td>\n",
       "      <td>0.0</td>\n",
       "      <td>0.0</td>\n",
       "      <td>0.0</td>\n",
       "      <td>0.0</td>\n",
       "      <td>0.0</td>\n",
       "      <td>0.0</td>\n",
       "    </tr>\n",
       "    <tr>\n",
       "      <th>4</th>\n",
       "      <td>3.8</td>\n",
       "      <td>165.0</td>\n",
       "      <td>300</td>\n",
       "      <td>11</td>\n",
       "      <td>1</td>\n",
       "      <td>0.0</td>\n",
       "      <td>0.0</td>\n",
       "      <td>0.0</td>\n",
       "      <td>1.0</td>\n",
       "      <td>0.0</td>\n",
       "      <td>...</td>\n",
       "      <td>0.0</td>\n",
       "      <td>0.0</td>\n",
       "      <td>0.0</td>\n",
       "      <td>0.0</td>\n",
       "      <td>0.0</td>\n",
       "      <td>0.0</td>\n",
       "      <td>0.0</td>\n",
       "      <td>0.0</td>\n",
       "      <td>0.0</td>\n",
       "      <td>0.0</td>\n",
       "    </tr>\n",
       "  </tbody>\n",
       "</table>\n",
       "<p>5 rows × 29 columns</p>\n",
       "</div>"
      ],
      "text/plain": [
       "   RATING  VOTES  COST  Location  count  CASUAL DINING  BAR  QUICK BITES  \\\n",
       "0     3.6   49.0  1200        16      3            1.0  0.0          0.0   \n",
       "1     4.2   30.0  1500         2      3            1.0  1.0          0.0   \n",
       "2     3.8  221.0   800         2      4            1.0  0.0          0.0   \n",
       "3     4.1   24.0   800        11      2            0.0  0.0          1.0   \n",
       "4     3.8  165.0   300        11      1            0.0  0.0          0.0   \n",
       "\n",
       "   DESSERT PARLOR  CAFÉ  ...  FOOD COURT  FOOD TRUCK  MESS  KIOSK  CLUB  \\\n",
       "0             0.0   0.0  ...         0.0         0.0   0.0    0.0   0.0   \n",
       "1             0.0   0.0  ...         0.0         0.0   0.0    0.0   0.0   \n",
       "2             0.0   0.0  ...         0.0         0.0   0.0    0.0   0.0   \n",
       "3             0.0   0.0  ...         0.0         0.0   0.0    0.0   0.0   \n",
       "4             1.0   0.0  ...         0.0         0.0   0.0    0.0   0.0   \n",
       "\n",
       "   CONFECTIONERY  DHABA  MEAT SHOP  COCKTAIL BAR  PAAN SHOP  \n",
       "0            0.0    0.0        0.0           0.0        0.0  \n",
       "1            0.0    0.0        0.0           0.0        0.0  \n",
       "2            0.0    0.0        0.0           0.0        0.0  \n",
       "3            0.0    0.0        0.0           0.0        0.0  \n",
       "4            0.0    0.0        0.0           0.0        0.0  \n",
       "\n",
       "[5 rows x 29 columns]"
      ]
     },
     "execution_count": 332,
     "metadata": {},
     "output_type": "execute_result"
    }
   ],
   "source": [
    "df_new.head()"
   ]
  },
  {
   "cell_type": "code",
   "execution_count": 352,
   "metadata": {},
   "outputs": [],
   "source": [
    "adb=AdaBoostRegressor(base_estimator=KNN,n_estimators=6,learning_rate=1,random_state=42)\n",
    "adb.fit(X_train,Y_train)\n",
    "predtest=adb.predict(X)    "
   ]
  },
  {
   "cell_type": "code",
   "execution_count": 353,
   "metadata": {},
   "outputs": [
    {
     "data": {
      "text/plain": [
       "array([980., 500., 770., ..., 380., 270., 330.])"
      ]
     },
     "execution_count": 353,
     "metadata": {},
     "output_type": "execute_result"
    }
   ],
   "source": [
    "predtest"
   ]
  },
  {
   "cell_type": "code",
   "execution_count": 354,
   "metadata": {},
   "outputs": [],
   "source": [
    "df_output=pd.DataFrame(predtest)\n",
    "df_output.to_csv(\"restaurant_cost.csv\")"
   ]
  },
  {
   "cell_type": "code",
   "execution_count": 355,
   "metadata": {},
   "outputs": [
    {
     "data": {
      "text/plain": [
       "['restaurant_cost.pkl']"
      ]
     },
     "execution_count": 355,
     "metadata": {},
     "output_type": "execute_result"
    }
   ],
   "source": [
    "import joblib\n",
    "joblib.dump(knn,\"restaurant_cost.pkl\")"
   ]
  },
  {
   "cell_type": "code",
   "execution_count": null,
   "metadata": {},
   "outputs": [],
   "source": []
  }
 ],
 "metadata": {
  "kernelspec": {
   "display_name": "Python 3",
   "language": "python",
   "name": "python3"
  },
  "language_info": {
   "codemirror_mode": {
    "name": "ipython",
    "version": 3
   },
   "file_extension": ".py",
   "mimetype": "text/x-python",
   "name": "python",
   "nbconvert_exporter": "python",
   "pygments_lexer": "ipython3",
   "version": "3.8.3"
  }
 },
 "nbformat": 4,
 "nbformat_minor": 4
}
